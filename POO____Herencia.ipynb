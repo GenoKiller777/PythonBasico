{
  "nbformat": 4,
  "nbformat_minor": 0,
  "metadata": {
    "colab": {
      "name": "POO || Herencia.ipynb",
      "provenance": [],
      "collapsed_sections": []
    },
    "kernelspec": {
      "name": "python3",
      "display_name": "Python 3"
    },
    "language_info": {
      "name": "python"
    }
  },
  "cells": [
    {
      "cell_type": "markdown",
      "metadata": {
        "id": "H1bQFk-g_7Bp"
      },
      "source": [
        "### Herencia de Habilidades"
      ]
    },
    {
      "cell_type": "markdown",
      "metadata": {
        "id": "ElEXztomAV45"
      },
      "source": [
        "####**Ejemplo 1**: Dos clases base y una derivada (Herencia de Atribustos)."
      ]
    },
    {
      "cell_type": "code",
      "metadata": {
        "id": "-Ax29QS8_fxy"
      },
      "source": [
        "class Base1:\n",
        "  x = 10\n",
        "\n",
        "class Base2:\n",
        "  y = 5\n",
        "\n",
        "class Derivada(Base1, Base2):\n",
        "  pass"
      ],
      "execution_count": 1,
      "outputs": []
    },
    {
      "cell_type": "code",
      "metadata": {
        "id": "pdgkpGAuA1dw"
      },
      "source": [
        "d = Derivada()"
      ],
      "execution_count": 2,
      "outputs": []
    },
    {
      "cell_type": "code",
      "metadata": {
        "colab": {
          "base_uri": "https://localhost:8080/"
        },
        "id": "Ki3z6qoOA6zt",
        "outputId": "b50bd069-6fa7-417f-aaf0-178638c42254"
      },
      "source": [
        "print(d.x,\" \",d.y)"
      ],
      "execution_count": 6,
      "outputs": [
        {
          "output_type": "stream",
          "name": "stdout",
          "text": [
            "10   5\n"
          ]
        }
      ]
    },
    {
      "cell_type": "markdown",
      "metadata": {
        "id": "nsrIR2xgBOMY"
      },
      "source": [
        "####**Ejemplo 2**: Operaciones con los atributos de una clase base"
      ]
    },
    {
      "cell_type": "code",
      "metadata": {
        "id": "fbfG0gcrBWpD"
      },
      "source": [
        "class Materia1:\n",
        "  #Atributo de la clase\n",
        "  calif1 = 100\n",
        "\n",
        "class Materia2:\n",
        "  calif2 = 70 \n",
        "\n",
        "class Promedio(Materia1,Materia2):\n",
        "  #Método\n",
        "  def prom(self):\n",
        "    return((self.calif1 + self.calif2)/2)"
      ],
      "execution_count": 7,
      "outputs": []
    },
    {
      "cell_type": "code",
      "metadata": {
        "id": "ndHpR9LvCciK"
      },
      "source": [
        "nota_final = Promedio()"
      ],
      "execution_count": 8,
      "outputs": []
    },
    {
      "cell_type": "code",
      "metadata": {
        "colab": {
          "base_uri": "https://localhost:8080/"
        },
        "id": "O_YNgUeXCkjb",
        "outputId": "bf01b48c-1c91-4123-d3e0-854dac12f6fe"
      },
      "source": [
        "nota_final.prom()"
      ],
      "execution_count": 13,
      "outputs": [
        {
          "output_type": "execute_result",
          "data": {
            "text/plain": [
              "85.0"
            ]
          },
          "metadata": {},
          "execution_count": 13
        }
      ]
    },
    {
      "cell_type": "markdown",
      "metadata": {
        "id": "1FUcvFeEDd32"
      },
      "source": [
        "#####¿Qué pasa si no se usa self, ni se define la clase base?"
      ]
    },
    {
      "cell_type": "code",
      "metadata": {
        "id": "-egaHsp0Dlay"
      },
      "source": [
        "class Materia1:\n",
        "  #Atributo de la clase\n",
        "  calif1 = 100\n",
        "\n",
        "class Materia2:\n",
        "  calif2 = 70 \n",
        "\n",
        "class Promedio:\n",
        "  #Método\n",
        "  def prom(self):\n",
        "    return((self.calif1 + self.calif2)/2)"
      ],
      "execution_count": 15,
      "outputs": []
    },
    {
      "cell_type": "code",
      "metadata": {
        "colab": {
          "base_uri": "https://localhost:8080/",
          "height": 265
        },
        "id": "CTaMCbUpDx8g",
        "outputId": "dccea490-7fe9-44f1-c919-b6c195dbfafc"
      },
      "source": [
        "nota_final = Promedio()\n",
        "nota_final.prom()"
      ],
      "execution_count": 17,
      "outputs": [
        {
          "output_type": "error",
          "ename": "AttributeError",
          "evalue": "ignored",
          "traceback": [
            "\u001b[0;31m---------------------------------------------------------------------------\u001b[0m",
            "\u001b[0;31mAttributeError\u001b[0m                            Traceback (most recent call last)",
            "\u001b[0;32m<ipython-input-17-33a5bcd958a7>\u001b[0m in \u001b[0;36m<module>\u001b[0;34m()\u001b[0m\n\u001b[1;32m      1\u001b[0m \u001b[0mnota_final\u001b[0m \u001b[0;34m=\u001b[0m \u001b[0mPromedio\u001b[0m\u001b[0;34m(\u001b[0m\u001b[0;34m)\u001b[0m\u001b[0;34m\u001b[0m\u001b[0;34m\u001b[0m\u001b[0m\n\u001b[0;32m----> 2\u001b[0;31m \u001b[0mnota_final\u001b[0m\u001b[0;34m.\u001b[0m\u001b[0mprom\u001b[0m\u001b[0;34m(\u001b[0m\u001b[0;34m)\u001b[0m\u001b[0;34m\u001b[0m\u001b[0;34m\u001b[0m\u001b[0m\n\u001b[0m",
            "\u001b[0;32m<ipython-input-15-b7d0f2c4d787>\u001b[0m in \u001b[0;36mprom\u001b[0;34m(self)\u001b[0m\n\u001b[1;32m      9\u001b[0m   \u001b[0;31m#Método\u001b[0m\u001b[0;34m\u001b[0m\u001b[0;34m\u001b[0m\u001b[0;34m\u001b[0m\u001b[0m\n\u001b[1;32m     10\u001b[0m   \u001b[0;32mdef\u001b[0m \u001b[0mprom\u001b[0m\u001b[0;34m(\u001b[0m\u001b[0mself\u001b[0m\u001b[0;34m)\u001b[0m\u001b[0;34m:\u001b[0m\u001b[0;34m\u001b[0m\u001b[0;34m\u001b[0m\u001b[0m\n\u001b[0;32m---> 11\u001b[0;31m     \u001b[0;32mreturn\u001b[0m\u001b[0;34m(\u001b[0m\u001b[0;34m(\u001b[0m\u001b[0mself\u001b[0m\u001b[0;34m.\u001b[0m\u001b[0mcalif1\u001b[0m \u001b[0;34m+\u001b[0m \u001b[0mself\u001b[0m\u001b[0;34m.\u001b[0m\u001b[0mcalif2\u001b[0m\u001b[0;34m)\u001b[0m\u001b[0;34m/\u001b[0m\u001b[0;36m2\u001b[0m\u001b[0;34m)\u001b[0m\u001b[0;34m\u001b[0m\u001b[0;34m\u001b[0m\u001b[0m\n\u001b[0m",
            "\u001b[0;31mAttributeError\u001b[0m: 'Promedio' object has no attribute 'calif1'"
          ]
        }
      ]
    },
    {
      "cell_type": "markdown",
      "metadata": {
        "id": "2emVwOpvD_ix"
      },
      "source": [
        "###Otro error."
      ]
    },
    {
      "cell_type": "code",
      "metadata": {
        "id": "jtkIYxVhD5I1"
      },
      "source": [
        "class Materia1:\n",
        "  #Atributo de la clase\n",
        "  calif1 = 100\n",
        "\n",
        "class Materia2:\n",
        "  calif2 = 70 \n",
        "\n",
        "class Promedio(Materia1,Materia2):\n",
        "  #Método\n",
        "  def prom(self):\n",
        "    return((calif1 + calif2)/2)"
      ],
      "execution_count": 18,
      "outputs": []
    },
    {
      "cell_type": "code",
      "metadata": {
        "colab": {
          "base_uri": "https://localhost:8080/",
          "height": 265
        },
        "id": "mxbs5p0-EGDy",
        "outputId": "1041a88a-aaa9-407f-dbb2-09d54feeb31f"
      },
      "source": [
        "nota_final = Promedio()\n",
        "nota_final.prom()"
      ],
      "execution_count": 19,
      "outputs": [
        {
          "output_type": "error",
          "ename": "NameError",
          "evalue": "ignored",
          "traceback": [
            "\u001b[0;31m---------------------------------------------------------------------------\u001b[0m",
            "\u001b[0;31mNameError\u001b[0m                                 Traceback (most recent call last)",
            "\u001b[0;32m<ipython-input-19-33a5bcd958a7>\u001b[0m in \u001b[0;36m<module>\u001b[0;34m()\u001b[0m\n\u001b[1;32m      1\u001b[0m \u001b[0mnota_final\u001b[0m \u001b[0;34m=\u001b[0m \u001b[0mPromedio\u001b[0m\u001b[0;34m(\u001b[0m\u001b[0;34m)\u001b[0m\u001b[0;34m\u001b[0m\u001b[0;34m\u001b[0m\u001b[0m\n\u001b[0;32m----> 2\u001b[0;31m \u001b[0mnota_final\u001b[0m\u001b[0;34m.\u001b[0m\u001b[0mprom\u001b[0m\u001b[0;34m(\u001b[0m\u001b[0;34m)\u001b[0m\u001b[0;34m\u001b[0m\u001b[0;34m\u001b[0m\u001b[0m\n\u001b[0m",
            "\u001b[0;32m<ipython-input-18-e0f3eca5a110>\u001b[0m in \u001b[0;36mprom\u001b[0;34m(self)\u001b[0m\n\u001b[1;32m      9\u001b[0m   \u001b[0;31m#Método\u001b[0m\u001b[0;34m\u001b[0m\u001b[0;34m\u001b[0m\u001b[0;34m\u001b[0m\u001b[0m\n\u001b[1;32m     10\u001b[0m   \u001b[0;32mdef\u001b[0m \u001b[0mprom\u001b[0m\u001b[0;34m(\u001b[0m\u001b[0mself\u001b[0m\u001b[0;34m)\u001b[0m\u001b[0;34m:\u001b[0m\u001b[0;34m\u001b[0m\u001b[0;34m\u001b[0m\u001b[0m\n\u001b[0;32m---> 11\u001b[0;31m     \u001b[0;32mreturn\u001b[0m\u001b[0;34m(\u001b[0m\u001b[0;34m(\u001b[0m\u001b[0mcalif1\u001b[0m \u001b[0;34m+\u001b[0m \u001b[0mcalif2\u001b[0m\u001b[0;34m)\u001b[0m\u001b[0;34m/\u001b[0m\u001b[0;36m2\u001b[0m\u001b[0;34m)\u001b[0m\u001b[0;34m\u001b[0m\u001b[0;34m\u001b[0m\u001b[0m\n\u001b[0m",
            "\u001b[0;31mNameError\u001b[0m: name 'calif1' is not defined"
          ]
        }
      ]
    },
    {
      "cell_type": "markdown",
      "metadata": {
        "id": "3AMWSxyMEO7O"
      },
      "source": [
        "###**Ejemplo 3**: Herencia de Métodos (2 Clases base y una derivada)\n"
      ]
    },
    {
      "cell_type": "code",
      "metadata": {
        "id": "SxW-od9lEOYA"
      },
      "source": [
        "class Papá():\n",
        "  def GustosPapá(self):\n",
        "    print('Organización y la contabilidad.')\n",
        "\n",
        "class Mamá():\n",
        "  def GustosMamá(self):\n",
        "    print('Solución de problemas y arreglar las cosas que no funcionan.')\n",
        "\n",
        "class Hija(Papá, Mamá):\n",
        "  def GustosHija(self):\n",
        "    print('Le gusta programar en Python.')"
      ],
      "execution_count": 22,
      "outputs": []
    },
    {
      "cell_type": "code",
      "metadata": {
        "colab": {
          "base_uri": "https://localhost:8080/"
        },
        "id": "htXeM5eOFfsP",
        "outputId": "c083d0ba-89f5-4402-8553-931c26c72b27"
      },
      "source": [
        "Raquelilla = Hija() #Instaciar la clase Hija en el objeto Raquelita\n",
        "Raquelilla.GustosPapá()\n",
        "Raquelilla.GustosMamá()\n",
        "Raquelilla.GustosHija()"
      ],
      "execution_count": 29,
      "outputs": [
        {
          "output_type": "stream",
          "name": "stdout",
          "text": [
            "Organización y la contabilidad.\n",
            "Solución de problemas y arreglar las cosas que no funcionan.\n",
            "Le gusta programar en Python.\n"
          ]
        }
      ]
    },
    {
      "cell_type": "markdown",
      "metadata": {
        "id": "Et4q2IVTGSV2"
      },
      "source": [
        "###**Ejemplo 4**: Herencia de Métodos (2 Clases base y una derivada)"
      ]
    },
    {
      "cell_type": "code",
      "metadata": {
        "id": "A-NRjPdyGPBr"
      },
      "source": [
        "class Futbol():\n",
        "  def futscore(self):\n",
        "    print('Goooooooollll!!!')\n",
        "\n",
        "class Basquetbol():\n",
        "  def baquetscore(self):\n",
        "    print('Canasta!!!!')\n",
        "\n",
        "class Beisbol():\n",
        "  def baseballcore(self):\n",
        "    print('HOME-RUN !!!')\n",
        "\n",
        "class Frankestein(Futbol, Basquetbol, Beisbol):\n",
        "  def frankesteinscore(self):\n",
        "    print('La anotación de los 3 deportes!!!!')"
      ],
      "execution_count": 30,
      "outputs": []
    },
    {
      "cell_type": "code",
      "metadata": {
        "id": "3AFdf6RoIX0N"
      },
      "source": [
        "frankie = Frankestein()"
      ],
      "execution_count": 31,
      "outputs": []
    },
    {
      "cell_type": "code",
      "metadata": {
        "colab": {
          "base_uri": "https://localhost:8080/"
        },
        "id": "249WrFHnIawm",
        "outputId": "52ad157d-280d-40f8-98ea-1fa6159b5461"
      },
      "source": [
        "frankie.futscore()\n",
        "frankie.frankesteinscore()"
      ],
      "execution_count": 33,
      "outputs": [
        {
          "output_type": "stream",
          "name": "stdout",
          "text": [
            "Goooooooollll!!!\n",
            "La anotación de los 3 deportes!!!!\n"
          ]
        }
      ]
    },
    {
      "cell_type": "markdown",
      "metadata": {
        "id": "4HQXx0UBIsTX"
      },
      "source": [
        "###**Ejemplo 5**: Solicitar infromación de 2 clases base."
      ]
    },
    {
      "cell_type": "code",
      "metadata": {
        "id": "fj7BTsB_Ir3d"
      },
      "source": [
        "class Articulos():\n",
        "  def __init__(self):\n",
        "    self.piezas = int(input('Piezas: '))\n",
        "\n",
        "class Cupones():\n",
        "  def __init__(self):\n",
        "    self.descuento = float(input('Descuento: '))\n",
        "\n",
        "class Pago(Articulos, Cupones):\n",
        "  def __init__(self):\n",
        "    Articulos.__init__(self)\n",
        "    Cupones.__init__(self)\n",
        "  def pagar(self):\n",
        "    self.pago = (self.piezas * 5) - self.descuento\n",
        "    return (\"El total de la compra aplicado el descuento es de: {} pesos chilenos.\".format(str(self.pago)))"
      ],
      "execution_count": 58,
      "outputs": []
    },
    {
      "cell_type": "code",
      "metadata": {
        "colab": {
          "base_uri": "https://localhost:8080/",
          "height": 69
        },
        "id": "wK3F1dODLyC9",
        "outputId": "fe093cab-98cc-470e-bbcb-cd8b68c7c252"
      },
      "source": [
        "pancillo = Pago()\n",
        "pancillo.pagar()"
      ],
      "execution_count": 59,
      "outputs": [
        {
          "name": "stdout",
          "output_type": "stream",
          "text": [
            "Piezas: 32\n",
            "Descuento: 0.025652\n"
          ]
        },
        {
          "output_type": "execute_result",
          "data": {
            "application/vnd.google.colaboratory.intrinsic+json": {
              "type": "string"
            },
            "text/plain": [
              "'El total de la compra aplicado el descuento es de: 159.974348 pesos chilenos.'"
            ]
          },
          "metadata": {},
          "execution_count": 59
        }
      ]
    }
  ]
}