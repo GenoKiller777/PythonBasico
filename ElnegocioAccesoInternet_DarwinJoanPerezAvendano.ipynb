{
  "nbformat": 4,
  "nbformat_minor": 0,
  "metadata": {
    "colab": {
      "provenance": [],
      "authorship_tag": "ABX9TyOUeNjr51L5Ew9Y+2L5RH/s",
      "include_colab_link": true
    },
    "kernelspec": {
      "name": "python3",
      "display_name": "Python 3"
    },
    "language_info": {
      "name": "python"
    }
  },
  "cells": [
    {
      "cell_type": "markdown",
      "metadata": {
        "id": "view-in-github",
        "colab_type": "text"
      },
      "source": [
        "<a href=\"https://colab.research.google.com/github/GenoKiller777/PythonBasico/blob/main/ElnegocioAccesoInternet_DarwinJoanPerezAvendano.ipynb\" target=\"_parent\"><img src=\"https://colab.research.google.com/assets/colab-badge.svg\" alt=\"Open In Colab\"/></a>"
      ]
    },
    {
      "cell_type": "markdown",
      "source": [
        "## Considere el siguiente enunciado:\n",
        "* En la provincia de Soria, el negocio de acceso a Internet se reparte entre dos operadores, **Timofónica** y **Robafone** y dos únicas marcas de routers, **Xisco** y **Nuaweii**.\n",
        "* En Soria, la cuota de mercado de **Timofónica** es del **60%** y de **Robafone** el resto (**40%**).\n",
        "* El **70%** de los usuarios dispone de router **Xisco** y el **30%**\n",
        "de **ambas marcas**.\n",
        "* Además se sabe que la _probabilidad_ de corte de acceso es **0.1** para usuarios de **Timofónica**, **0.15** para **Robafone** y **0.05** para routers **Xisco**."
      ],
      "metadata": {
        "id": "KjahQ24s5c_X"
      }
    },
    {
      "cell_type": "markdown",
      "source": [
        "### **1.** Crear un script en Python que defina las probabilidades proporcionadas en el enunciado (usar un diccionario).\n"
      ],
      "metadata": {
        "id": "LJ5s9mNK4GQK"
      }
    },
    {
      "cell_type": "code",
      "execution_count": 1,
      "metadata": {
        "id": "DNLnTFil3yfi"
      },
      "outputs": [],
      "source": [
        "pr = dict()\n",
        "pr[\"Timofónica\"] = 0.6\n",
        "pr[\"Robafone\"] = 0.4\n",
        "pr[\"Xisco\"] = 0.7\n",
        "pr[\"Xisco Y Nuaweii\"] = 0.3\n",
        "pr[\"Corte | Timofónica\"] = 0.1\n",
        "pr[\"Corte | Robafone\"] = 0.15\n",
        "pr[\"Corte | Xisco\"] = 0.05"
      ]
    },
    {
      "cell_type": "markdown",
      "source": [
        "### **2.** Implementar en el script las expresiones correspondiente al Teorema de Bayes para responder las siguientes preguntas:\n"
      ],
      "metadata": {
        "id": "GBmDjofx4Nm7"
      }
    },
    {
      "cell_type": "markdown",
      "source": [
        "#### • ¿Cuál es la probabilidad de que a un usuario se le corte el Internet?"
      ],
      "metadata": {
        "id": "aQRjm5c34QUv"
      }
    },
    {
      "cell_type": "code",
      "source": [
        "pr[\"Corte\"] =  pr[\"Corte | Timofónica\"] * pr[\"Timofónica\"] + pr[\"Corte | Robafone\"] * pr[\"Robafone\"]\n",
        "print(round(pr[\"Corte\"] * 100 , 3),\"%\")"
      ],
      "metadata": {
        "colab": {
          "base_uri": "https://localhost:8080/"
        },
        "id": "sYNbQIYm3-Uw",
        "outputId": "bda3af23-504a-401a-aa46-58d013dd378c"
      },
      "execution_count": 21,
      "outputs": [
        {
          "output_type": "stream",
          "name": "stdout",
          "text": [
            "12.0 %\n"
          ]
        }
      ]
    },
    {
      "cell_type": "markdown",
      "source": [
        "**R.-** _La probabilidad de que un usuario  tenga un corte es del **12%**._\n"
      ],
      "metadata": {
        "id": "f4cWf9Io71BI"
      }
    },
    {
      "cell_type": "markdown",
      "source": [
        "#### • Si se sabe que un usuario tiene la línea cortada, ¿cuál es la probabilidad de que tenga router Xisco en casa?,\n"
      ],
      "metadata": {
        "id": "1ppKn9794ST0"
      }
    },
    {
      "cell_type": "code",
      "source": [
        "pr[\"Xisco | Corte\"] = pr[\"Xisco\"] * pr[\"Corte | Xisco\"] / pr[\"Corte\"]\n",
        "print(round(pr[\"Xisco | Corte\"] * 100, 3),\"%\")"
      ],
      "metadata": {
        "colab": {
          "base_uri": "https://localhost:8080/"
        },
        "id": "dRzeSCPs4k3u",
        "outputId": "25001604-587a-49f8-a366-fc04deb28c84"
      },
      "execution_count": 22,
      "outputs": [
        {
          "output_type": "stream",
          "name": "stdout",
          "text": [
            "29.167 %\n"
          ]
        }
      ]
    },
    {
      "cell_type": "markdown",
      "source": [
        "**R.-** _Si el usuario tiene un corte, la probabilidad de que en su casa tenga un router **Xisco** es del **29.167%**._"
      ],
      "metadata": {
        "id": "XIc9Er5E8F3c"
      }
    },
    {
      "cell_type": "markdown",
      "source": [
        "#### • ¿Cuál es la probabilidad de que se produzca un corte a un usuario que no tiene un router Xisco?"
      ],
      "metadata": {
        "id": "6PIj3gT-4W08"
      }
    },
    {
      "cell_type": "code",
      "source": [
        "pr[\"Corte | Nuaweii\"] = (pr[\"Corte\"] - pr[\"Xisco\"] * pr[\"Corte | Xisco\"]) / (1 - pr[\"Xisco\"])\n",
        "print(round(pr[\"Corte | Nuaweii\"] * 100, 3),\"%\")"
      ],
      "metadata": {
        "colab": {
          "base_uri": "https://localhost:8080/"
        },
        "id": "k-glFGfT4uis",
        "outputId": "8b06cfbe-073c-41ad-decf-dc61907f34a1"
      },
      "execution_count": 23,
      "outputs": [
        {
          "output_type": "stream",
          "name": "stdout",
          "text": [
            "28.333 %\n"
          ]
        }
      ]
    },
    {
      "cell_type": "markdown",
      "source": [
        "**R.-** _La probabilidad de que un usuario tenga un corte y no tenga un router **Xisco** es del **28.333%**._"
      ],
      "metadata": {
        "id": "9BQXFvu98GtR"
      }
    }
  ]
}