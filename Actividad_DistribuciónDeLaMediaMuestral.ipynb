{
  "nbformat": 4,
  "nbformat_minor": 0,
  "metadata": {
    "colab": {
      "provenance": [],
      "toc_visible": true,
      "authorship_tag": "ABX9TyNVsnrwoCWDw179IQ372LoS",
      "include_colab_link": true
    },
    "kernelspec": {
      "name": "python3",
      "display_name": "Python 3"
    },
    "language_info": {
      "name": "python"
    }
  },
  "cells": [
    {
      "cell_type": "markdown",
      "metadata": {
        "id": "view-in-github",
        "colab_type": "text"
      },
      "source": [
        "<a href=\"https://colab.research.google.com/github/GenoKiller777/PythonBasico/blob/main/Actividad_Distribuci%C3%B3nDeLaMediaMuestral.ipynb\" target=\"_parent\"><img src=\"https://colab.research.google.com/assets/colab-badge.svg\" alt=\"Open In Colab\"/></a>"
      ]
    },
    {
      "cell_type": "code",
      "source": [
        "from scipy.stats import norm"
      ],
      "metadata": {
        "id": "L6T5PAWLmZ_X"
      },
      "execution_count": 14,
      "outputs": []
    },
    {
      "cell_type": "markdown",
      "source": [
        "# **Módulo 4** - _Distribuciones de Probabilidad_\n",
        "# Ejercicio Distribución de la Media Muestral"
      ],
      "metadata": {
        "id": "YbnYEeMqQLMa"
      }
    },
    {
      "cell_type": "markdown",
      "source": [
        "### **1.** La duración media de las bombillas de una determinada marca sigue una distribución normal N(1500,160).\n",
        "\n",
        "$$\\color{black}{N\\;(\\mu,\\sigma) = N(1500,160)}$$"
      ],
      "metadata": {
        "id": "8Ww8RKR-mIw6"
      }
    },
    {
      "cell_type": "markdown",
      "source": [
        "#### • Si escogemos una bombilla al azar, ¿cuál es la probabilidad de que funcione más de 1524 horas?\n",
        "\n",
        "$$z = \\dfrac{x - \\mu}{\\sigma}$$\n",
        "\n",
        "$$z = \\dfrac{1524 - 1500}{160} = 0.15$$\n",
        "\n",
        "$$P \\left( x>1524 \\right) = P \\left( x>1524 \\right)$$\n",
        "\n",
        "$$P \\left( x>1524 \\right) = P \\left( z>0.15 \\right) = 1 -P \\left( z\\leq0.15 \\right) $$\n",
        "\n",
        "$$P \\left( z\\leq0.15 \\right) = 0.5596 $$\n",
        "\n",
        "$$P \\left( x>1524 \\right) = P \\left( z>0.15 \\right) = 1 - 0.5596 = 0.4404 $$"
      ],
      "metadata": {
        "id": "n2tLS9RymM-c"
      }
    },
    {
      "cell_type": "code",
      "execution_count": 23,
      "metadata": {
        "id": "SWAFP1cPmGE1"
      },
      "outputs": [],
      "source": [
        "media = 1500\n",
        "desviacion_estandar_1 = 160\n",
        "\n",
        "proba_1_1 = 1 - norm.cdf(1524, media, desviacion_estandar_1)"
      ]
    },
    {
      "cell_type": "code",
      "source": [
        "print(f\"La probabilidad de que una bombilla funcione más de 1524 horas es de {round(proba_1_1 * 100,3)}%.\")"
      ],
      "metadata": {
        "colab": {
          "base_uri": "https://localhost:8080/"
        },
        "id": "X-GcM-WZmeHY",
        "outputId": "26d3a51a-65c1-45c5-a620-7368538bcb90"
      },
      "execution_count": 29,
      "outputs": [
        {
          "output_type": "stream",
          "name": "stdout",
          "text": [
            "La probabilidad de que una bombilla funcione más de 1524 horas es de 44.038%.\n"
          ]
        }
      ]
    },
    {
      "cell_type": "markdown",
      "source": [
        "#### • Si escogemos una muestra de 100 bombillas y calculamos su duración media, ¿cuál es la probabilidad de que sea superior a 1524 horas?\n",
        "\n",
        "$$\\color{black}{N\\;(\\mu,\\dfrac{\\sigma}{\\sqrt{N}}) = N(1500,\\dfrac{160}{\\sqrt{100}}) = N(1500,16)}$$\n",
        "\n",
        "$$P \\left(\\bar x>1524 \\right)$$\n",
        "\n",
        "$$z = \\frac{\\bar x - \\mu}{\\frac{\\sigma}{\\sqrt{N}}}$$\n",
        "\n",
        "$$z = \\frac{1524 - 1500}{\\frac{160}{\\sqrt{100}}} = 1.5$$\n",
        "\n",
        "$$P \\left(\\bar x>1524 \\right) = P \\left( z >1.5 \\right) = 1 -P \\left( z\\leq 1.5 \\right)$$\n",
        "\n",
        "$$P \\left( z\\leq 1.5 \\right) = 0.9332 $$\n",
        "\n",
        "$$P \\left(\\bar x>1524 \\right) = P \\left( z > 1.5 \\right) = 1 - 0.9332 = 0.0668 $$"
      ],
      "metadata": {
        "id": "L29IiBXBmOfj"
      }
    },
    {
      "cell_type": "code",
      "source": [
        "media = 1500\n",
        "desviacion_estandar_2 = 160/100**0.5\n",
        "\n",
        "proba_1_2 = 1 - norm.cdf(1524, media, desviacion_estandar_2)"
      ],
      "metadata": {
        "id": "DTLF_ThNs1F_"
      },
      "execution_count": 25,
      "outputs": []
    },
    {
      "cell_type": "code",
      "source": [
        "print(f'''Hay un {round(proba_1_2 * 100,3)}% de probabilidad de que si tomo una muestra de 100 bombillas,\n",
        "la media de su duración sea superior a 1524 horas.''')"
      ],
      "metadata": {
        "colab": {
          "base_uri": "https://localhost:8080/"
        },
        "id": "gs2l9KvJ9ajt",
        "outputId": "cc8696be-7d29-4e62-8462-2468edef44a2"
      },
      "execution_count": 73,
      "outputs": [
        {
          "output_type": "stream",
          "name": "stdout",
          "text": [
            "Hay un 6.681% de probabilidad de que si tomo una muestra de 100 bombillas, \n",
            "la media de su duración sea superior a 1524 horas.\n"
          ]
        }
      ]
    },
    {
      "cell_type": "markdown",
      "source": [
        "### **2.** Los pesos de las ovejas de una cierta ganadería tienen una media de 50 kg con una desviación típica de 4.\n",
        "\n",
        "$$\\color{black}{N\\;(\\mu,\\sigma) = N(50,4)}$$\n",
        "\n",
        "$$\\color{black}{N\\;(\\mu,\\dfrac{\\sigma}{\\sqrt{N}}) = N(50,\\dfrac{4}{\\sqrt{100}}) = N(50,0.4)}$$\n",
        "\n",
        "Elegimos al azar una muestra aleatoria simple de 100 ovejas.\n",
        "\n",
        "Determina:\n"
      ],
      "metadata": {
        "id": "oCVtYybi-pRg"
      }
    },
    {
      "cell_type": "markdown",
      "source": [
        "#### **A.-** La probabilidad de que su media sea superior a 51 kg.\n",
        "\n",
        "$$P \\left(\\bar x>51 \\right)$$\n",
        "\n",
        "$$z = \\frac{\\bar x - \\mu}{\\frac{\\sigma}{\\sqrt{N}}}$$\n",
        "\n",
        "$$z = \\frac{51 - 50}{\\frac{4}{\\sqrt{100}}} = 2.5$$\n",
        "\n",
        "$$P \\left(\\bar x>51 \\right) = P \\left( z >2.5 \\right) = 1 -P \\left( z\\leq 2.5 \\right)$$\n",
        "\n",
        "$$P \\left( z\\leq 2.5 \\right) = 0.9938 $$\n",
        "\n",
        "$$P \\left(\\bar x>51 \\right) = P \\left( z > 2.5 \\right) = 1 - 0.9938 = 0.00619 $$"
      ],
      "metadata": {
        "id": "4cPPeJ_X-wY9"
      }
    },
    {
      "cell_type": "code",
      "source": [
        "media = 50\n",
        "desviacion_estandar_2 = 4 /100**0.5\n",
        "\n",
        "proba_2_1 = 1 - norm.cdf(51, media, desviacion_estandar_2)"
      ],
      "metadata": {
        "id": "Q___sU9--wo_"
      },
      "execution_count": 31,
      "outputs": []
    },
    {
      "cell_type": "code",
      "source": [
        "print(f'''La probabilidad de que la media de la muestra sea superior a 51 kg es de un {round(proba_2_1 * 100,3)}%.\n",
        "\n",
        "Es un porcentaje muy pequeño, ya que estamos muy cerca de 3,5 veces la desviación típica,\n",
        "a la derecha de la media y por encima de ese valor tendría un 0%.''')"
      ],
      "metadata": {
        "colab": {
          "base_uri": "https://localhost:8080/"
        },
        "id": "DU2IYhknC2-j",
        "outputId": "8b7f4f2c-2d56-45d3-fc5f-fa3adb23ef95"
      },
      "execution_count": 76,
      "outputs": [
        {
          "output_type": "stream",
          "name": "stdout",
          "text": [
            "La probabilidad de que la media de la muestra sea superior a 51 kg es de un 0.621%.\n",
            "\n",
            "Es un porcentaje muy pequeño, ya que estamos muy cerca de 3,5 veces la desviación típica, \n",
            "a la derecha de la media y por encima de ese valor tendría un 0%.\n"
          ]
        }
      ]
    },
    {
      "cell_type": "markdown",
      "source": [
        "#### **B.-** La probabilidad de que su media sea inferior a 56 kg.\n",
        "\n",
        "\n",
        "$$P \\left(\\bar x<56 \\right)$$\n",
        "\n",
        "$$z = \\frac{\\bar x - \\mu}{\\frac{\\sigma}{\\sqrt{N}}}$$\n",
        "\n",
        "$$z = \\frac{56 - 50}{\\frac{4}{\\sqrt{100}}} = 15$$\n",
        "\n",
        "$$P \\left(\\bar x<56 \\right) = P \\left( z <15 \\right) = 1 $$\n",
        "\n",
        "\n"
      ],
      "metadata": {
        "id": "u8ICI7OG-w56"
      }
    },
    {
      "cell_type": "code",
      "source": [
        "media = 50\n",
        "desviacion_estandar_2 = 4 /100**0.5\n",
        "\n",
        "proba_2_2 = norm.cdf(56, media, desviacion_estandar_2)"
      ],
      "metadata": {
        "id": "Q-XJb-sS-xLG"
      },
      "execution_count": 41,
      "outputs": []
    },
    {
      "cell_type": "code",
      "source": [
        "print(f\"La probabilidad de que la media de la muestra sea inferior a 56 kg es de un {round(proba_2_2 * 100,3)}%.\")"
      ],
      "metadata": {
        "colab": {
          "base_uri": "https://localhost:8080/"
        },
        "id": "xOs3NT4WEjY9",
        "outputId": "d5857903-8a11-423e-a01a-c42c2fe584e2"
      },
      "execution_count": 43,
      "outputs": [
        {
          "output_type": "stream",
          "name": "stdout",
          "text": [
            "La probabilidad de que la media de la muestra sea inferior a 56 kg es de un 100.0%.\n"
          ]
        }
      ]
    },
    {
      "cell_type": "markdown",
      "source": [
        "#### **C.-** La probabilidad de que su media sea superior a 49 kg.\n",
        "\n",
        "$$P \\left(\\bar x> 49 \\right)$$\n",
        "\n",
        "$$z = \\frac{49 - 50}{\\frac{4}{\\sqrt{100}}} = -2.5$$\n",
        "\n",
        "$$P \\left(\\bar x>49 \\right) = P \\left( z >-2.5 \\right) =1 - P \\left( z\\leq -2.5 \\right) $$\n",
        "\n",
        "$$P \\left( z\\leq -2.5 \\right) = 0.00621 $$\n",
        "\n",
        "$$P \\left(\\bar x>49 \\right) = P \\left( z > -2.5 \\right) = 1 - 0.00621 = 0.99379 $$"
      ],
      "metadata": {
        "id": "JKmT4lQH-xgO"
      }
    },
    {
      "cell_type": "code",
      "source": [
        "media = 50\n",
        "desviacion_estandar_2 = 4 /100**0.5\n",
        "\n",
        "proba_2_3 = 1 - norm.cdf(49, media, desviacion_estandar_2)"
      ],
      "metadata": {
        "id": "lSfHhX8z-xwt"
      },
      "execution_count": 50,
      "outputs": []
    },
    {
      "cell_type": "code",
      "source": [
        "print(f\"La probabilidad de que la media de la muestra sea superior a 49 kg es de un {round(proba_2_3 * 100,3)}%.\")"
      ],
      "metadata": {
        "colab": {
          "base_uri": "https://localhost:8080/"
        },
        "id": "Zyl1y9LNGd4v",
        "outputId": "8faabcd6-814f-446a-fe87-5aaeef6678f3"
      },
      "execution_count": 52,
      "outputs": [
        {
          "output_type": "stream",
          "name": "stdout",
          "text": [
            "La probabilidad de que la media de la muestra sea superior a 49 kg es de un 99.379%.\n"
          ]
        }
      ]
    },
    {
      "cell_type": "markdown",
      "source": [
        "#### **D.-** La probabilidad de que su media esté entre 49,5 kg y 50,3 kg.\n",
        "\n",
        "$$P \\left(49.5 < \\bar x < 50.3 \\right)$$\n",
        "\n",
        "$$z_{1} = \\frac{49.5 - 50}{\\frac{4}{\\sqrt{100}}} = -1.25$$\n",
        "\n",
        "$$z_{2} = \\frac{50.3 - 50}{\\frac{4}{\\sqrt{100}}} = 0.75$$\n",
        "\n",
        "$$P \\left(49.5 < \\bar x < 50.3 \\right) = P \\left( -1.25< z <0.75 \\right) $$\n",
        "\n",
        "$$P \\left( z\\leq 0.75 \\right) - [1-P \\left( z\\leq 1.25 \\right)]$$\n",
        "\n",
        "$$ 0.77337 - [1 - 0.89435]= 0.66772 $$\n"
      ],
      "metadata": {
        "id": "olgMObGV-yGS"
      }
    },
    {
      "cell_type": "code",
      "source": [
        "media = 50\n",
        "desviacion_estandar_2 = 4 /100**0.5\n",
        "\n",
        "proba_2_4_1 = norm.cdf(50.3, media, desviacion_estandar_2)\n",
        "proba_2_4_2 = norm.cdf(49.5, media, desviacion_estandar_2)\n",
        "\n",
        "proba_4 = proba_2_4_1 - proba_2_4_2"
      ],
      "metadata": {
        "id": "zgvRy5NG-ygk"
      },
      "execution_count": 69,
      "outputs": []
    },
    {
      "cell_type": "code",
      "source": [
        "print(f\"La probabilidad de que la media de la muestra esté entre 49,5 kg y 50,3 kg es de un {round(proba_4 * 100,3)}%.\")"
      ],
      "metadata": {
        "colab": {
          "base_uri": "https://localhost:8080/"
        },
        "id": "zwU0IbxAOq0G",
        "outputId": "28688ee4-2b85-4c50-a41b-3935cf864370"
      },
      "execution_count": 72,
      "outputs": [
        {
          "output_type": "stream",
          "name": "stdout",
          "text": [
            "La probabilidad de que la media de la muestra esté entre 49,5 kg y 50,3 kg es de un 66.772%.\n"
          ]
        }
      ]
    }
  ]
}