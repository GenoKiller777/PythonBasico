{
  "nbformat": 4,
  "nbformat_minor": 0,
  "metadata": {
    "colab": {
      "provenance": [],
      "authorship_tag": "ABX9TyNzcruS1j/opteKLWW7vkUk",
      "include_colab_link": true
    },
    "kernelspec": {
      "name": "python3",
      "display_name": "Python 3"
    },
    "language_info": {
      "name": "python"
    }
  },
  "cells": [
    {
      "cell_type": "markdown",
      "metadata": {
        "id": "view-in-github",
        "colab_type": "text"
      },
      "source": [
        "<a href=\"https://colab.research.google.com/github/GenoKiller777/PythonBasico/blob/main/PacketDifferenceExtraction.ipynb\" target=\"_parent\"><img src=\"https://colab.research.google.com/assets/colab-badge.svg\" alt=\"Open In Colab\"/></a>"
      ]
    },
    {
      "cell_type": "code",
      "source": [
        "from google.colab import files\n",
        "\n",
        "uploaded = files.upload()\n",
        "\n",
        "for fn in uploaded.keys():\n",
        "  print('User uploaded file \"{name}\" with length {length} bytes'.format(\n",
        "      name=fn, length=len(uploaded[fn])))"
      ],
      "metadata": {
        "colab": {
          "base_uri": "https://localhost:8080/",
          "height": 91
        },
        "id": "oh1pktR6Dpgy",
        "outputId": "4f31582c-2c49-4bf8-ed98-d2f1934d284b"
      },
      "execution_count": 21,
      "outputs": [
        {
          "output_type": "display_data",
          "data": {
            "text/plain": [
              "<IPython.core.display.HTML object>"
            ],
            "text/html": [
              "\n",
              "     <input type=\"file\" id=\"files-04d10b1b-ca4b-43ba-b39d-d27d298e2f2f\" name=\"files[]\" multiple disabled\n",
              "        style=\"border:none\" />\n",
              "     <output id=\"result-04d10b1b-ca4b-43ba-b39d-d27d298e2f2f\">\n",
              "      Upload widget is only available when the cell has been executed in the\n",
              "      current browser session. Please rerun this cell to enable.\n",
              "      </output>\n",
              "      <script>// Copyright 2017 Google LLC\n",
              "//\n",
              "// Licensed under the Apache License, Version 2.0 (the \"License\");\n",
              "// you may not use this file except in compliance with the License.\n",
              "// You may obtain a copy of the License at\n",
              "//\n",
              "//      http://www.apache.org/licenses/LICENSE-2.0\n",
              "//\n",
              "// Unless required by applicable law or agreed to in writing, software\n",
              "// distributed under the License is distributed on an \"AS IS\" BASIS,\n",
              "// WITHOUT WARRANTIES OR CONDITIONS OF ANY KIND, either express or implied.\n",
              "// See the License for the specific language governing permissions and\n",
              "// limitations under the License.\n",
              "\n",
              "/**\n",
              " * @fileoverview Helpers for google.colab Python module.\n",
              " */\n",
              "(function(scope) {\n",
              "function span(text, styleAttributes = {}) {\n",
              "  const element = document.createElement('span');\n",
              "  element.textContent = text;\n",
              "  for (const key of Object.keys(styleAttributes)) {\n",
              "    element.style[key] = styleAttributes[key];\n",
              "  }\n",
              "  return element;\n",
              "}\n",
              "\n",
              "// Max number of bytes which will be uploaded at a time.\n",
              "const MAX_PAYLOAD_SIZE = 100 * 1024;\n",
              "\n",
              "function _uploadFiles(inputId, outputId) {\n",
              "  const steps = uploadFilesStep(inputId, outputId);\n",
              "  const outputElement = document.getElementById(outputId);\n",
              "  // Cache steps on the outputElement to make it available for the next call\n",
              "  // to uploadFilesContinue from Python.\n",
              "  outputElement.steps = steps;\n",
              "\n",
              "  return _uploadFilesContinue(outputId);\n",
              "}\n",
              "\n",
              "// This is roughly an async generator (not supported in the browser yet),\n",
              "// where there are multiple asynchronous steps and the Python side is going\n",
              "// to poll for completion of each step.\n",
              "// This uses a Promise to block the python side on completion of each step,\n",
              "// then passes the result of the previous step as the input to the next step.\n",
              "function _uploadFilesContinue(outputId) {\n",
              "  const outputElement = document.getElementById(outputId);\n",
              "  const steps = outputElement.steps;\n",
              "\n",
              "  const next = steps.next(outputElement.lastPromiseValue);\n",
              "  return Promise.resolve(next.value.promise).then((value) => {\n",
              "    // Cache the last promise value to make it available to the next\n",
              "    // step of the generator.\n",
              "    outputElement.lastPromiseValue = value;\n",
              "    return next.value.response;\n",
              "  });\n",
              "}\n",
              "\n",
              "/**\n",
              " * Generator function which is called between each async step of the upload\n",
              " * process.\n",
              " * @param {string} inputId Element ID of the input file picker element.\n",
              " * @param {string} outputId Element ID of the output display.\n",
              " * @return {!Iterable<!Object>} Iterable of next steps.\n",
              " */\n",
              "function* uploadFilesStep(inputId, outputId) {\n",
              "  const inputElement = document.getElementById(inputId);\n",
              "  inputElement.disabled = false;\n",
              "\n",
              "  const outputElement = document.getElementById(outputId);\n",
              "  outputElement.innerHTML = '';\n",
              "\n",
              "  const pickedPromise = new Promise((resolve) => {\n",
              "    inputElement.addEventListener('change', (e) => {\n",
              "      resolve(e.target.files);\n",
              "    });\n",
              "  });\n",
              "\n",
              "  const cancel = document.createElement('button');\n",
              "  inputElement.parentElement.appendChild(cancel);\n",
              "  cancel.textContent = 'Cancel upload';\n",
              "  const cancelPromise = new Promise((resolve) => {\n",
              "    cancel.onclick = () => {\n",
              "      resolve(null);\n",
              "    };\n",
              "  });\n",
              "\n",
              "  // Wait for the user to pick the files.\n",
              "  const files = yield {\n",
              "    promise: Promise.race([pickedPromise, cancelPromise]),\n",
              "    response: {\n",
              "      action: 'starting',\n",
              "    }\n",
              "  };\n",
              "\n",
              "  cancel.remove();\n",
              "\n",
              "  // Disable the input element since further picks are not allowed.\n",
              "  inputElement.disabled = true;\n",
              "\n",
              "  if (!files) {\n",
              "    return {\n",
              "      response: {\n",
              "        action: 'complete',\n",
              "      }\n",
              "    };\n",
              "  }\n",
              "\n",
              "  for (const file of files) {\n",
              "    const li = document.createElement('li');\n",
              "    li.append(span(file.name, {fontWeight: 'bold'}));\n",
              "    li.append(span(\n",
              "        `(${file.type || 'n/a'}) - ${file.size} bytes, ` +\n",
              "        `last modified: ${\n",
              "            file.lastModifiedDate ? file.lastModifiedDate.toLocaleDateString() :\n",
              "                                    'n/a'} - `));\n",
              "    const percent = span('0% done');\n",
              "    li.appendChild(percent);\n",
              "\n",
              "    outputElement.appendChild(li);\n",
              "\n",
              "    const fileDataPromise = new Promise((resolve) => {\n",
              "      const reader = new FileReader();\n",
              "      reader.onload = (e) => {\n",
              "        resolve(e.target.result);\n",
              "      };\n",
              "      reader.readAsArrayBuffer(file);\n",
              "    });\n",
              "    // Wait for the data to be ready.\n",
              "    let fileData = yield {\n",
              "      promise: fileDataPromise,\n",
              "      response: {\n",
              "        action: 'continue',\n",
              "      }\n",
              "    };\n",
              "\n",
              "    // Use a chunked sending to avoid message size limits. See b/62115660.\n",
              "    let position = 0;\n",
              "    do {\n",
              "      const length = Math.min(fileData.byteLength - position, MAX_PAYLOAD_SIZE);\n",
              "      const chunk = new Uint8Array(fileData, position, length);\n",
              "      position += length;\n",
              "\n",
              "      const base64 = btoa(String.fromCharCode.apply(null, chunk));\n",
              "      yield {\n",
              "        response: {\n",
              "          action: 'append',\n",
              "          file: file.name,\n",
              "          data: base64,\n",
              "        },\n",
              "      };\n",
              "\n",
              "      let percentDone = fileData.byteLength === 0 ?\n",
              "          100 :\n",
              "          Math.round((position / fileData.byteLength) * 100);\n",
              "      percent.textContent = `${percentDone}% done`;\n",
              "\n",
              "    } while (position < fileData.byteLength);\n",
              "  }\n",
              "\n",
              "  // All done.\n",
              "  yield {\n",
              "    response: {\n",
              "      action: 'complete',\n",
              "    }\n",
              "  };\n",
              "}\n",
              "\n",
              "scope.google = scope.google || {};\n",
              "scope.google.colab = scope.google.colab || {};\n",
              "scope.google.colab._files = {\n",
              "  _uploadFiles,\n",
              "  _uploadFilesContinue,\n",
              "};\n",
              "})(self);\n",
              "</script> "
            ]
          },
          "metadata": {}
        },
        {
          "output_type": "stream",
          "name": "stdout",
          "text": [
            "Saving flights.parquet to flights.parquet\n",
            "User uploaded file \"flights.parquet\" with length 5832620 bytes\n"
          ]
        }
      ]
    },
    {
      "cell_type": "code",
      "source": [
        "!pip install polars"
      ],
      "metadata": {
        "colab": {
          "base_uri": "https://localhost:8080/"
        },
        "id": "S7zMKaEt8-TA",
        "outputId": "fcbd5522-e4f6-400e-d0ad-bccf7b3171ba"
      },
      "execution_count": 1,
      "outputs": [
        {
          "output_type": "stream",
          "name": "stdout",
          "text": [
            "Looking in indexes: https://pypi.org/simple, https://us-python.pkg.dev/colab-wheels/public/simple/\n",
            "Requirement already satisfied: polars in /usr/local/lib/python3.8/dist-packages (0.16.5)\n",
            "Requirement already satisfied: typing_extensions>=4.0.1 in /usr/local/lib/python3.8/dist-packages (from polars) (4.4.0)\n"
          ]
        }
      ]
    },
    {
      "cell_type": "code",
      "source": [
        "!pip install pyspark"
      ],
      "metadata": {
        "colab": {
          "base_uri": "https://localhost:8080/"
        },
        "id": "I8zlltQq9KcQ",
        "outputId": "cc51ff5e-9ee5-41c0-f3ed-17cc12a9845b"
      },
      "execution_count": 2,
      "outputs": [
        {
          "output_type": "stream",
          "name": "stdout",
          "text": [
            "Looking in indexes: https://pypi.org/simple, https://us-python.pkg.dev/colab-wheels/public/simple/\n",
            "Requirement already satisfied: pyspark in /usr/local/lib/python3.8/dist-packages (3.3.1)\n",
            "Requirement already satisfied: py4j==0.10.9.5 in /usr/local/lib/python3.8/dist-packages (from pyspark) (0.10.9.5)\n"
          ]
        }
      ]
    },
    {
      "cell_type": "code",
      "execution_count": 3,
      "metadata": {
        "id": "G0Q3fko-7rw4"
      },
      "outputs": [],
      "source": [
        "import pandas as pd\n",
        "import polars as pl\n",
        "from pyspark.sql import SparkSession\n",
        "\n",
        "flights_file = \"flights.parquet\""
      ]
    },
    {
      "cell_type": "code",
      "source": [
        "!ls -GFlash flights.parquet"
      ],
      "metadata": {
        "colab": {
          "base_uri": "https://localhost:8080/"
        },
        "id": "1DveW6do9yUE",
        "outputId": "bc5de7b2-2189-4b41-abf3-18ecb6d10b94"
      },
      "execution_count": 4,
      "outputs": [
        {
          "output_type": "stream",
          "name": "stdout",
          "text": [
            "5.6M -rw-r--r-- 1 root 5.6M Feb 14 17:53 flights.parquet\n"
          ]
        }
      ]
    },
    {
      "cell_type": "code",
      "source": [
        "df = pd.read_parquet(flights_file)"
      ],
      "metadata": {
        "id": "iTYlO-Sz-HMX"
      },
      "execution_count": 5,
      "outputs": []
    },
    {
      "cell_type": "code",
      "source": [
        "df.info()"
      ],
      "metadata": {
        "colab": {
          "base_uri": "https://localhost:8080/"
        },
        "id": "KmLJIhvlED7p",
        "outputId": "7353a8a3-d439-4813-85fe-650037b8ca93"
      },
      "execution_count": 6,
      "outputs": [
        {
          "output_type": "stream",
          "name": "stdout",
          "text": [
            "<class 'pandas.core.frame.DataFrame'>\n",
            "RangeIndex: 336776 entries, 0 to 336775\n",
            "Data columns (total 19 columns):\n",
            " #   Column          Non-Null Count   Dtype         \n",
            "---  ------          --------------   -----         \n",
            " 0   year            336776 non-null  int16         \n",
            " 1   month           336776 non-null  int8          \n",
            " 2   day             336776 non-null  int8          \n",
            " 3   dep_time        328521 non-null  float64       \n",
            " 4   sched_dep_time  336776 non-null  int16         \n",
            " 5   dep_delay       328521 non-null  float64       \n",
            " 6   arr_time        328063 non-null  float64       \n",
            " 7   sched_arr_time  336776 non-null  int16         \n",
            " 8   arr_delay       327346 non-null  float64       \n",
            " 9   carrier         336776 non-null  object        \n",
            " 10  flight          336776 non-null  int16         \n",
            " 11  tailnum         334264 non-null  object        \n",
            " 12  origin          336776 non-null  object        \n",
            " 13  dest            336776 non-null  object        \n",
            " 14  air_time        327346 non-null  float64       \n",
            " 15  distance        336776 non-null  int16         \n",
            " 16  hour            336776 non-null  int8          \n",
            " 17  minute          336776 non-null  int8          \n",
            " 18  time_hour       336776 non-null  datetime64[ns]\n",
            "dtypes: datetime64[ns](1), float64(5), int16(5), int8(4), object(4)\n",
            "memory usage: 30.2+ MB\n"
          ]
        }
      ]
    },
    {
      "cell_type": "code",
      "source": [
        "df.head(5)"
      ],
      "metadata": {
        "id": "YiUxgwEkHH4u"
      },
      "execution_count": null,
      "outputs": []
    },
    {
      "cell_type": "markdown",
      "source": [
        "## Pandas"
      ],
      "metadata": {
        "id": "O8_d7OnECvIK"
      }
    },
    {
      "cell_type": "code",
      "source": [
        "%%timeit\n",
        "import pandas as od\n",
        "\n",
        "df = pd.read_parquet(flights_file)\n",
        "df_agg = df.groupby([\"carrier\", \"year\"])[[\"dep_delay\",\"arr_time\"]].agg(\n",
        "    [\"mean\",\"sum\",\"max\"]\n",
        ")\n",
        "\n",
        "df_agg = df_agg.reset_index()\n",
        "df_agg.to_parquet('temp_pandas.parquet')\n",
        "\n",
        "# 0.2 Segundos"
      ],
      "metadata": {
        "colab": {
          "base_uri": "https://localhost:8080/"
        },
        "id": "QTiMkIdTCyhu",
        "outputId": "ace1a1eb-7b04-4953-d275-641a7b9942cd"
      },
      "execution_count": 9,
      "outputs": [
        {
          "output_type": "stream",
          "name": "stdout",
          "text": [
            "169 ms ± 31.9 ms per loop (mean ± std. dev. of 7 runs, 10 loops each)\n"
          ]
        }
      ]
    },
    {
      "cell_type": "code",
      "source": [
        "pd.read_parquet('temp_pandas.parquet')"
      ],
      "metadata": {
        "id": "PwF5lZ7uITLj"
      },
      "execution_count": null,
      "outputs": []
    },
    {
      "cell_type": "markdown",
      "source": [
        "## Polars"
      ],
      "metadata": {
        "id": "MrGBqPapG8l2"
      }
    },
    {
      "cell_type": "code",
      "source": [
        "%%timeit\n",
        "import polars as pl\n",
        "flights_file = \"flights.parquet\"\n",
        "\n",
        "df_polars = (\n",
        "    pl.scan_parquet(flights_file)\n",
        "    .groupby([\"carrier\", \"year\"])\n",
        "    .agg(\n",
        "        [\n",
        "            pl.col(\"dep_delay\").mean().alias(\"avg_dep_delay\"),\n",
        "            pl.col(\"dep_delay\").sum().alias(\"sum_dep_delay\"),\n",
        "            pl.col(\"dep_delay\").max().alias(\"max_dep_delay\"),\n",
        "            pl.col(\"arr_time\").mean().alias(\"avg_arr_delay\"),\n",
        "            pl.col(\"arr_time\").sum().alias(\"sum_arr_delay\"),\n",
        "            pl.col(\"arr_time\").max().alias(\"max_arr_delay\")\n",
        "        ]\n",
        "    )\n",
        ").collect()\n",
        "\n",
        "#0.11 Segundos"
      ],
      "metadata": {
        "colab": {
          "base_uri": "https://localhost:8080/"
        },
        "id": "v0YqSzsXAd5E",
        "outputId": "abc8b4a4-98ce-48d7-e7c6-fb1c721b85fe"
      },
      "execution_count": 15,
      "outputs": [
        {
          "output_type": "stream",
          "name": "stdout",
          "text": [
            "119 ms ± 32.4 ms per loop (mean ± std. dev. of 7 runs, 10 loops each)\n"
          ]
        }
      ]
    },
    {
      "cell_type": "code",
      "source": [
        "df_polars.write_parquet('temp_polars.parquet')"
      ],
      "metadata": {
        "id": "tw3g9yLgG0eN"
      },
      "execution_count": 14,
      "outputs": []
    },
    {
      "cell_type": "markdown",
      "source": [
        "## PySpark"
      ],
      "metadata": {
        "id": "-2zqG_vYJUrj"
      }
    },
    {
      "cell_type": "code",
      "source": [
        "#Importacion SparkSession\n",
        "from pyspark.sql import SparkSession\n",
        "from pyspark.sql.functions import avg, max, sum\n",
        "\n",
        "#Create SparkSession\n",
        "spark = SparkSession.builder.master(\"local[1]\").appName(\"airline-example\").getOrCreate()\n",
        "flights_file = \"flights.parquet\""
      ],
      "metadata": {
        "id": "dFmgqFMFJEDz"
      },
      "execution_count": 16,
      "outputs": []
    },
    {
      "cell_type": "code",
      "source": [
        "%%timeit\n",
        "\n",
        "df_spark = spark.read.parquet(flights_file)\n",
        "df_spark_agg = df_spark.groupby(\"carrier\", \"year\").agg(\n",
        "    avg(\"dep_delay\").alias(\"avg_dep_delay\"),\n",
        "    sum(\"dep_delay\").alias(\"sum_dep_delay\"),\n",
        "    max(\"dep_delay\").alias(\"max_dep_delay\"),\n",
        "    avg(\"arr_time\").alias(\"avg_arr_delay\"),\n",
        "    sum(\"arr_time\").alias(\"sum_arr_delay\"),\n",
        "    max(\"arr_time\").alias(\"max_arr_delay\")\n",
        ")\n",
        "\n",
        "df_spark_agg.write.mode('overwrite').parquet('temp_spark.parquet')\n",
        "\n",
        "# 1.15 Segundos"
      ],
      "metadata": {
        "colab": {
          "base_uri": "https://localhost:8080/"
        },
        "id": "J8CNKNPMKqNf",
        "outputId": "1cf2c758-f944-4b1f-ffb4-945b1e2a179d"
      },
      "execution_count": 18,
      "outputs": [
        {
          "output_type": "stream",
          "name": "stdout",
          "text": [
            "1.11 s ± 242 ms per loop (mean ± std. dev. of 7 runs, 1 loop each)\n"
          ]
        }
      ]
    },
    {
      "cell_type": "code",
      "source": [
        "!ls -GFlash temp_spark.parquet"
      ],
      "metadata": {
        "colab": {
          "base_uri": "https://localhost:8080/"
        },
        "id": "saYhnT6JSl4x",
        "outputId": "728c9113-aa79-4bc2-c4cb-9d519f186b5b"
      },
      "execution_count": 19,
      "outputs": [
        {
          "output_type": "stream",
          "name": "stdout",
          "text": [
            "total 20K\n",
            "4.0K drwxr-xr-x 2 root 4.0K Feb 14 19:11 ./\n",
            "4.0K drwxr-xr-x 1 root 4.0K Feb 14 19:11 ../\n",
            "4.0K -rw-r--r-- 1 root 3.0K Feb 14 19:11 part-00000-b4f3e1fe-40de-4efe-b890-c3c4f1ec92f0-c000.snappy.parquet\n",
            "4.0K -rw-r--r-- 1 root   32 Feb 14 19:11 .part-00000-b4f3e1fe-40de-4efe-b890-c3c4f1ec92f0-c000.snappy.parquet.crc\n",
            "   0 -rw-r--r-- 1 root    0 Feb 14 19:11 _SUCCESS\n",
            "4.0K -rw-r--r-- 1 root    8 Feb 14 19:11 ._SUCCESS.crc\n"
          ]
        }
      ]
    },
    {
      "cell_type": "markdown",
      "source": [
        "## Spark SQL"
      ],
      "metadata": {
        "id": "Jp6HExflMp0o"
      }
    },
    {
      "cell_type": "code",
      "source": [
        "# Importacion SparkSession\n",
        "from pyspark.sql import SparkSession\n",
        "# Creacion SparkSession\n",
        "spark = SparkSession.builder.master(\"local[1]\").appName(\"airline-example\").getOrCreate()\n",
        "\n",
        "flights_file = \"flights.parquet\"\n",
        "\n",
        "spark.sql(f\"CREATE TEMPORARY VIEW flights USING parquet OPTIONS (path \\\"{flights_file}\\\")\")"
      ],
      "metadata": {
        "colab": {
          "base_uri": "https://localhost:8080/"
        },
        "id": "yg4MUpRrMpdM",
        "outputId": "e7e60247-a906-43e6-e24d-53bc79f1ef21"
      },
      "execution_count": 20,
      "outputs": [
        {
          "output_type": "execute_result",
          "data": {
            "text/plain": [
              "DataFrame[]"
            ]
          },
          "metadata": {},
          "execution_count": 20
        }
      ]
    },
    {
      "cell_type": "code",
      "source": [
        "%%timeit\n",
        "\n",
        "query = \"\"\"\n",
        "SELECT carrier,\n",
        "       year,\n",
        "       avg(dep_delay) AS avg_dep_delay,\n",
        "       sum(dep_delay) AS sum_dep_delay,\n",
        "       max(dep_delay) AS max_dep_delay,\n",
        "       avg(arr_time) AS avg_arr_delay,\n",
        "       sum(arr_time) AS sum_arr_delay,\n",
        "       max(arr_time) AS max_arr_delay\n",
        "FROM flights\n",
        "GROUP BY carrier, year\n",
        "\"\"\"\n",
        "spark.sql(query).write.mode('overwrite').parquet('temp_spark_sql.parquet')\n",
        "\n",
        "# 0.742 Segundos"
      ],
      "metadata": {
        "id": "GjzxiI9NN6ve"
      },
      "execution_count": 24,
      "outputs": []
    },
    {
      "cell_type": "code",
      "source": [
        "!ls -GFlash temp_spark_sql.parquet"
      ],
      "metadata": {
        "colab": {
          "base_uri": "https://localhost:8080/"
        },
        "id": "cXDFL9HGRd5W",
        "outputId": "98c0881e-0192-4a1b-de7a-0493b76972fd"
      },
      "execution_count": 25,
      "outputs": [
        {
          "output_type": "stream",
          "name": "stdout",
          "text": [
            "total 20K\n",
            "4.0K drwxr-xr-x 2 root 4.0K Feb 14 19:12 ./\n",
            "4.0K drwxr-xr-x 1 root 4.0K Feb 14 19:12 ../\n",
            "4.0K -rw-r--r-- 1 root 3.0K Feb 14 19:12 part-00000-b2b059fb-0fa0-4c34-b892-2be853d89b40-c000.snappy.parquet\n",
            "4.0K -rw-r--r-- 1 root   32 Feb 14 19:12 .part-00000-b2b059fb-0fa0-4c34-b892-2be853d89b40-c000.snappy.parquet.crc\n",
            "   0 -rw-r--r-- 1 root    0 Feb 14 19:12 _SUCCESS\n",
            "4.0K -rw-r--r-- 1 root    8 Feb 14 19:12 ._SUCCESS.crc\n"
          ]
        }
      ]
    },
    {
      "cell_type": "markdown",
      "source": [
        "## Lectura de Resultados\n"
      ],
      "metadata": {
        "id": "GI_y0kvvRuBb"
      }
    },
    {
      "cell_type": "code",
      "source": [
        "import pandas as pd\n",
        "agg_pandas = pd.read_parquet('temp_pandas.parquet')\n",
        "agg_polars = pd.read_parquet('temp_polars.parquet')\n",
        "agg_spark = pd.read_parquet('temp_spark.parquet')\n",
        "agg_sparksql = pd.read_parquet('temp_spark_sql.parquet')"
      ],
      "metadata": {
        "id": "xJBrpJxURw5X"
      },
      "execution_count": 26,
      "outputs": []
    },
    {
      "cell_type": "code",
      "source": [
        "agg_pandas.shape, agg_polars.shape, agg_spark.shape, agg_sparksql.shape"
      ],
      "metadata": {
        "colab": {
          "base_uri": "https://localhost:8080/"
        },
        "id": "cdgeok69TTec",
        "outputId": "733d03cc-532c-435c-c36f-45d8382e95e6"
      },
      "execution_count": 27,
      "outputs": [
        {
          "output_type": "execute_result",
          "data": {
            "text/plain": [
              "((16, 8), (16, 8), (16, 8), (16, 8))"
            ]
          },
          "metadata": {},
          "execution_count": 27
        }
      ]
    },
    {
      "cell_type": "code",
      "source": [
        "agg_pandas.sort_values(['carrier','year']).head()"
      ],
      "metadata": {
        "colab": {
          "base_uri": "https://localhost:8080/",
          "height": 237
        },
        "id": "Csu_lRCTTuDz",
        "outputId": "ed1c68d4-93fd-48bb-d258-307bcdc0f5ae"
      },
      "execution_count": 28,
      "outputs": [
        {
          "output_type": "execute_result",
          "data": {
            "text/plain": [
              "  carrier  year  dep_delay                       arr_time                    \n",
              "                      mean       sum     max         mean         sum     max\n",
              "0      9E  2013  16.725769  291296.0   747.0  1639.029692  28428970.0  2400.0\n",
              "1      AA  2013   8.586016  275551.0  1014.0  1521.436757  48775741.0  2400.0\n",
              "2      AS  2013   5.804775    4133.0   225.0  1564.894663   1114205.0  2355.0\n",
              "3      B6  2013  13.022522  705417.0   502.0  1405.725012  76101735.0  2400.0\n",
              "4      DL  2013   9.264505  442482.0   960.0  1572.877812  75098624.0  2400.0"
            ],
            "text/html": [
              "\n",
              "  <div id=\"df-5ddb787c-7590-4e10-93f1-6362fc82f90f\">\n",
              "    <div class=\"colab-df-container\">\n",
              "      <div>\n",
              "<style scoped>\n",
              "    .dataframe tbody tr th:only-of-type {\n",
              "        vertical-align: middle;\n",
              "    }\n",
              "\n",
              "    .dataframe tbody tr th {\n",
              "        vertical-align: top;\n",
              "    }\n",
              "\n",
              "    .dataframe thead tr th {\n",
              "        text-align: left;\n",
              "    }\n",
              "</style>\n",
              "<table border=\"1\" class=\"dataframe\">\n",
              "  <thead>\n",
              "    <tr>\n",
              "      <th></th>\n",
              "      <th>carrier</th>\n",
              "      <th>year</th>\n",
              "      <th colspan=\"3\" halign=\"left\">dep_delay</th>\n",
              "      <th colspan=\"3\" halign=\"left\">arr_time</th>\n",
              "    </tr>\n",
              "    <tr>\n",
              "      <th></th>\n",
              "      <th></th>\n",
              "      <th></th>\n",
              "      <th>mean</th>\n",
              "      <th>sum</th>\n",
              "      <th>max</th>\n",
              "      <th>mean</th>\n",
              "      <th>sum</th>\n",
              "      <th>max</th>\n",
              "    </tr>\n",
              "  </thead>\n",
              "  <tbody>\n",
              "    <tr>\n",
              "      <th>0</th>\n",
              "      <td>9E</td>\n",
              "      <td>2013</td>\n",
              "      <td>16.725769</td>\n",
              "      <td>291296.0</td>\n",
              "      <td>747.0</td>\n",
              "      <td>1639.029692</td>\n",
              "      <td>28428970.0</td>\n",
              "      <td>2400.0</td>\n",
              "    </tr>\n",
              "    <tr>\n",
              "      <th>1</th>\n",
              "      <td>AA</td>\n",
              "      <td>2013</td>\n",
              "      <td>8.586016</td>\n",
              "      <td>275551.0</td>\n",
              "      <td>1014.0</td>\n",
              "      <td>1521.436757</td>\n",
              "      <td>48775741.0</td>\n",
              "      <td>2400.0</td>\n",
              "    </tr>\n",
              "    <tr>\n",
              "      <th>2</th>\n",
              "      <td>AS</td>\n",
              "      <td>2013</td>\n",
              "      <td>5.804775</td>\n",
              "      <td>4133.0</td>\n",
              "      <td>225.0</td>\n",
              "      <td>1564.894663</td>\n",
              "      <td>1114205.0</td>\n",
              "      <td>2355.0</td>\n",
              "    </tr>\n",
              "    <tr>\n",
              "      <th>3</th>\n",
              "      <td>B6</td>\n",
              "      <td>2013</td>\n",
              "      <td>13.022522</td>\n",
              "      <td>705417.0</td>\n",
              "      <td>502.0</td>\n",
              "      <td>1405.725012</td>\n",
              "      <td>76101735.0</td>\n",
              "      <td>2400.0</td>\n",
              "    </tr>\n",
              "    <tr>\n",
              "      <th>4</th>\n",
              "      <td>DL</td>\n",
              "      <td>2013</td>\n",
              "      <td>9.264505</td>\n",
              "      <td>442482.0</td>\n",
              "      <td>960.0</td>\n",
              "      <td>1572.877812</td>\n",
              "      <td>75098624.0</td>\n",
              "      <td>2400.0</td>\n",
              "    </tr>\n",
              "  </tbody>\n",
              "</table>\n",
              "</div>\n",
              "      <button class=\"colab-df-convert\" onclick=\"convertToInteractive('df-5ddb787c-7590-4e10-93f1-6362fc82f90f')\"\n",
              "              title=\"Convert this dataframe to an interactive table.\"\n",
              "              style=\"display:none;\">\n",
              "        \n",
              "  <svg xmlns=\"http://www.w3.org/2000/svg\" height=\"24px\"viewBox=\"0 0 24 24\"\n",
              "       width=\"24px\">\n",
              "    <path d=\"M0 0h24v24H0V0z\" fill=\"none\"/>\n",
              "    <path d=\"M18.56 5.44l.94 2.06.94-2.06 2.06-.94-2.06-.94-.94-2.06-.94 2.06-2.06.94zm-11 1L8.5 8.5l.94-2.06 2.06-.94-2.06-.94L8.5 2.5l-.94 2.06-2.06.94zm10 10l.94 2.06.94-2.06 2.06-.94-2.06-.94-.94-2.06-.94 2.06-2.06.94z\"/><path d=\"M17.41 7.96l-1.37-1.37c-.4-.4-.92-.59-1.43-.59-.52 0-1.04.2-1.43.59L10.3 9.45l-7.72 7.72c-.78.78-.78 2.05 0 2.83L4 21.41c.39.39.9.59 1.41.59.51 0 1.02-.2 1.41-.59l7.78-7.78 2.81-2.81c.8-.78.8-2.07 0-2.86zM5.41 20L4 18.59l7.72-7.72 1.47 1.35L5.41 20z\"/>\n",
              "  </svg>\n",
              "      </button>\n",
              "      \n",
              "  <style>\n",
              "    .colab-df-container {\n",
              "      display:flex;\n",
              "      flex-wrap:wrap;\n",
              "      gap: 12px;\n",
              "    }\n",
              "\n",
              "    .colab-df-convert {\n",
              "      background-color: #E8F0FE;\n",
              "      border: none;\n",
              "      border-radius: 50%;\n",
              "      cursor: pointer;\n",
              "      display: none;\n",
              "      fill: #1967D2;\n",
              "      height: 32px;\n",
              "      padding: 0 0 0 0;\n",
              "      width: 32px;\n",
              "    }\n",
              "\n",
              "    .colab-df-convert:hover {\n",
              "      background-color: #E2EBFA;\n",
              "      box-shadow: 0px 1px 2px rgba(60, 64, 67, 0.3), 0px 1px 3px 1px rgba(60, 64, 67, 0.15);\n",
              "      fill: #174EA6;\n",
              "    }\n",
              "\n",
              "    [theme=dark] .colab-df-convert {\n",
              "      background-color: #3B4455;\n",
              "      fill: #D2E3FC;\n",
              "    }\n",
              "\n",
              "    [theme=dark] .colab-df-convert:hover {\n",
              "      background-color: #434B5C;\n",
              "      box-shadow: 0px 1px 3px 1px rgba(0, 0, 0, 0.15);\n",
              "      filter: drop-shadow(0px 1px 2px rgba(0, 0, 0, 0.3));\n",
              "      fill: #FFFFFF;\n",
              "    }\n",
              "  </style>\n",
              "\n",
              "      <script>\n",
              "        const buttonEl =\n",
              "          document.querySelector('#df-5ddb787c-7590-4e10-93f1-6362fc82f90f button.colab-df-convert');\n",
              "        buttonEl.style.display =\n",
              "          google.colab.kernel.accessAllowed ? 'block' : 'none';\n",
              "\n",
              "        async function convertToInteractive(key) {\n",
              "          const element = document.querySelector('#df-5ddb787c-7590-4e10-93f1-6362fc82f90f');\n",
              "          const dataTable =\n",
              "            await google.colab.kernel.invokeFunction('convertToInteractive',\n",
              "                                                     [key], {});\n",
              "          if (!dataTable) return;\n",
              "\n",
              "          const docLinkHtml = 'Like what you see? Visit the ' +\n",
              "            '<a target=\"_blank\" href=https://colab.research.google.com/notebooks/data_table.ipynb>data table notebook</a>'\n",
              "            + ' to learn more about interactive tables.';\n",
              "          element.innerHTML = '';\n",
              "          dataTable['output_type'] = 'display_data';\n",
              "          await google.colab.output.renderOutput(dataTable, element);\n",
              "          const docLink = document.createElement('div');\n",
              "          docLink.innerHTML = docLinkHtml;\n",
              "          element.appendChild(docLink);\n",
              "        }\n",
              "      </script>\n",
              "    </div>\n",
              "  </div>\n",
              "  "
            ]
          },
          "metadata": {},
          "execution_count": 28
        }
      ]
    },
    {
      "cell_type": "code",
      "source": [
        "agg_polars.sort_values('carrier').head()"
      ],
      "metadata": {
        "colab": {
          "base_uri": "https://localhost:8080/",
          "height": 206
        },
        "id": "d7GGoeWrT-nu",
        "outputId": "e7d753bc-9cf7-4c1e-f3ac-e9db8f2136fc"
      },
      "execution_count": 29,
      "outputs": [
        {
          "output_type": "execute_result",
          "data": {
            "text/plain": [
              "   carrier  year  avg_dep_delay  sum_dep_delay  max_dep_delay  avg_arr_delay  \\\n",
              "12      9E  2013      16.725769         291296            747    1639.029692   \n",
              "9       AA  2013       8.586016         275551           1014    1521.436757   \n",
              "10      AS  2013       5.804775           4133            225    1564.894663   \n",
              "6       B6  2013      13.022522         705417            502    1405.725012   \n",
              "5       DL  2013       9.264505         442482            960    1572.877812   \n",
              "\n",
              "    sum_arr_delay  max_arr_delay  \n",
              "12       28428970           2400  \n",
              "9        48775741           2400  \n",
              "10        1114205           2355  \n",
              "6        76101735           2400  \n",
              "5        75098624           2400  "
            ],
            "text/html": [
              "\n",
              "  <div id=\"df-90953a7d-0238-41d2-80fa-9cd0228bbad4\">\n",
              "    <div class=\"colab-df-container\">\n",
              "      <div>\n",
              "<style scoped>\n",
              "    .dataframe tbody tr th:only-of-type {\n",
              "        vertical-align: middle;\n",
              "    }\n",
              "\n",
              "    .dataframe tbody tr th {\n",
              "        vertical-align: top;\n",
              "    }\n",
              "\n",
              "    .dataframe thead th {\n",
              "        text-align: right;\n",
              "    }\n",
              "</style>\n",
              "<table border=\"1\" class=\"dataframe\">\n",
              "  <thead>\n",
              "    <tr style=\"text-align: right;\">\n",
              "      <th></th>\n",
              "      <th>carrier</th>\n",
              "      <th>year</th>\n",
              "      <th>avg_dep_delay</th>\n",
              "      <th>sum_dep_delay</th>\n",
              "      <th>max_dep_delay</th>\n",
              "      <th>avg_arr_delay</th>\n",
              "      <th>sum_arr_delay</th>\n",
              "      <th>max_arr_delay</th>\n",
              "    </tr>\n",
              "  </thead>\n",
              "  <tbody>\n",
              "    <tr>\n",
              "      <th>12</th>\n",
              "      <td>9E</td>\n",
              "      <td>2013</td>\n",
              "      <td>16.725769</td>\n",
              "      <td>291296</td>\n",
              "      <td>747</td>\n",
              "      <td>1639.029692</td>\n",
              "      <td>28428970</td>\n",
              "      <td>2400</td>\n",
              "    </tr>\n",
              "    <tr>\n",
              "      <th>9</th>\n",
              "      <td>AA</td>\n",
              "      <td>2013</td>\n",
              "      <td>8.586016</td>\n",
              "      <td>275551</td>\n",
              "      <td>1014</td>\n",
              "      <td>1521.436757</td>\n",
              "      <td>48775741</td>\n",
              "      <td>2400</td>\n",
              "    </tr>\n",
              "    <tr>\n",
              "      <th>10</th>\n",
              "      <td>AS</td>\n",
              "      <td>2013</td>\n",
              "      <td>5.804775</td>\n",
              "      <td>4133</td>\n",
              "      <td>225</td>\n",
              "      <td>1564.894663</td>\n",
              "      <td>1114205</td>\n",
              "      <td>2355</td>\n",
              "    </tr>\n",
              "    <tr>\n",
              "      <th>6</th>\n",
              "      <td>B6</td>\n",
              "      <td>2013</td>\n",
              "      <td>13.022522</td>\n",
              "      <td>705417</td>\n",
              "      <td>502</td>\n",
              "      <td>1405.725012</td>\n",
              "      <td>76101735</td>\n",
              "      <td>2400</td>\n",
              "    </tr>\n",
              "    <tr>\n",
              "      <th>5</th>\n",
              "      <td>DL</td>\n",
              "      <td>2013</td>\n",
              "      <td>9.264505</td>\n",
              "      <td>442482</td>\n",
              "      <td>960</td>\n",
              "      <td>1572.877812</td>\n",
              "      <td>75098624</td>\n",
              "      <td>2400</td>\n",
              "    </tr>\n",
              "  </tbody>\n",
              "</table>\n",
              "</div>\n",
              "      <button class=\"colab-df-convert\" onclick=\"convertToInteractive('df-90953a7d-0238-41d2-80fa-9cd0228bbad4')\"\n",
              "              title=\"Convert this dataframe to an interactive table.\"\n",
              "              style=\"display:none;\">\n",
              "        \n",
              "  <svg xmlns=\"http://www.w3.org/2000/svg\" height=\"24px\"viewBox=\"0 0 24 24\"\n",
              "       width=\"24px\">\n",
              "    <path d=\"M0 0h24v24H0V0z\" fill=\"none\"/>\n",
              "    <path d=\"M18.56 5.44l.94 2.06.94-2.06 2.06-.94-2.06-.94-.94-2.06-.94 2.06-2.06.94zm-11 1L8.5 8.5l.94-2.06 2.06-.94-2.06-.94L8.5 2.5l-.94 2.06-2.06.94zm10 10l.94 2.06.94-2.06 2.06-.94-2.06-.94-.94-2.06-.94 2.06-2.06.94z\"/><path d=\"M17.41 7.96l-1.37-1.37c-.4-.4-.92-.59-1.43-.59-.52 0-1.04.2-1.43.59L10.3 9.45l-7.72 7.72c-.78.78-.78 2.05 0 2.83L4 21.41c.39.39.9.59 1.41.59.51 0 1.02-.2 1.41-.59l7.78-7.78 2.81-2.81c.8-.78.8-2.07 0-2.86zM5.41 20L4 18.59l7.72-7.72 1.47 1.35L5.41 20z\"/>\n",
              "  </svg>\n",
              "      </button>\n",
              "      \n",
              "  <style>\n",
              "    .colab-df-container {\n",
              "      display:flex;\n",
              "      flex-wrap:wrap;\n",
              "      gap: 12px;\n",
              "    }\n",
              "\n",
              "    .colab-df-convert {\n",
              "      background-color: #E8F0FE;\n",
              "      border: none;\n",
              "      border-radius: 50%;\n",
              "      cursor: pointer;\n",
              "      display: none;\n",
              "      fill: #1967D2;\n",
              "      height: 32px;\n",
              "      padding: 0 0 0 0;\n",
              "      width: 32px;\n",
              "    }\n",
              "\n",
              "    .colab-df-convert:hover {\n",
              "      background-color: #E2EBFA;\n",
              "      box-shadow: 0px 1px 2px rgba(60, 64, 67, 0.3), 0px 1px 3px 1px rgba(60, 64, 67, 0.15);\n",
              "      fill: #174EA6;\n",
              "    }\n",
              "\n",
              "    [theme=dark] .colab-df-convert {\n",
              "      background-color: #3B4455;\n",
              "      fill: #D2E3FC;\n",
              "    }\n",
              "\n",
              "    [theme=dark] .colab-df-convert:hover {\n",
              "      background-color: #434B5C;\n",
              "      box-shadow: 0px 1px 3px 1px rgba(0, 0, 0, 0.15);\n",
              "      filter: drop-shadow(0px 1px 2px rgba(0, 0, 0, 0.3));\n",
              "      fill: #FFFFFF;\n",
              "    }\n",
              "  </style>\n",
              "\n",
              "      <script>\n",
              "        const buttonEl =\n",
              "          document.querySelector('#df-90953a7d-0238-41d2-80fa-9cd0228bbad4 button.colab-df-convert');\n",
              "        buttonEl.style.display =\n",
              "          google.colab.kernel.accessAllowed ? 'block' : 'none';\n",
              "\n",
              "        async function convertToInteractive(key) {\n",
              "          const element = document.querySelector('#df-90953a7d-0238-41d2-80fa-9cd0228bbad4');\n",
              "          const dataTable =\n",
              "            await google.colab.kernel.invokeFunction('convertToInteractive',\n",
              "                                                     [key], {});\n",
              "          if (!dataTable) return;\n",
              "\n",
              "          const docLinkHtml = 'Like what you see? Visit the ' +\n",
              "            '<a target=\"_blank\" href=https://colab.research.google.com/notebooks/data_table.ipynb>data table notebook</a>'\n",
              "            + ' to learn more about interactive tables.';\n",
              "          element.innerHTML = '';\n",
              "          dataTable['output_type'] = 'display_data';\n",
              "          await google.colab.output.renderOutput(dataTable, element);\n",
              "          const docLink = document.createElement('div');\n",
              "          docLink.innerHTML = docLinkHtml;\n",
              "          element.appendChild(docLink);\n",
              "        }\n",
              "      </script>\n",
              "    </div>\n",
              "  </div>\n",
              "  "
            ]
          },
          "metadata": {},
          "execution_count": 29
        }
      ]
    },
    {
      "cell_type": "code",
      "source": [
        "agg_spark.sort_values(['carrier','year']).head()"
      ],
      "metadata": {
        "colab": {
          "base_uri": "https://localhost:8080/",
          "height": 206
        },
        "id": "087ST0vPUNqe",
        "outputId": "565ef27b-2383-48f6-aa12-e615677f4a77"
      },
      "execution_count": 30,
      "outputs": [
        {
          "output_type": "execute_result",
          "data": {
            "text/plain": [
              "   carrier  year  avg_dep_delay  sum_dep_delay  max_dep_delay  avg_arr_delay  \\\n",
              "6       9E  2013      16.725769         291296            747    1639.029692   \n",
              "1       AA  2013       8.586016         275551           1014    1521.436757   \n",
              "13      AS  2013       5.804775           4133            225    1564.894663   \n",
              "15      B6  2013      13.022522         705417            502    1405.725012   \n",
              "8       DL  2013       9.264505         442482            960    1572.877812   \n",
              "\n",
              "    sum_arr_delay  max_arr_delay  \n",
              "6        28428970           2400  \n",
              "1        48775741           2400  \n",
              "13        1114205           2355  \n",
              "15       76101735           2400  \n",
              "8        75098624           2400  "
            ],
            "text/html": [
              "\n",
              "  <div id=\"df-c1e250db-6691-479d-9a85-645ec2a40f6e\">\n",
              "    <div class=\"colab-df-container\">\n",
              "      <div>\n",
              "<style scoped>\n",
              "    .dataframe tbody tr th:only-of-type {\n",
              "        vertical-align: middle;\n",
              "    }\n",
              "\n",
              "    .dataframe tbody tr th {\n",
              "        vertical-align: top;\n",
              "    }\n",
              "\n",
              "    .dataframe thead th {\n",
              "        text-align: right;\n",
              "    }\n",
              "</style>\n",
              "<table border=\"1\" class=\"dataframe\">\n",
              "  <thead>\n",
              "    <tr style=\"text-align: right;\">\n",
              "      <th></th>\n",
              "      <th>carrier</th>\n",
              "      <th>year</th>\n",
              "      <th>avg_dep_delay</th>\n",
              "      <th>sum_dep_delay</th>\n",
              "      <th>max_dep_delay</th>\n",
              "      <th>avg_arr_delay</th>\n",
              "      <th>sum_arr_delay</th>\n",
              "      <th>max_arr_delay</th>\n",
              "    </tr>\n",
              "  </thead>\n",
              "  <tbody>\n",
              "    <tr>\n",
              "      <th>6</th>\n",
              "      <td>9E</td>\n",
              "      <td>2013</td>\n",
              "      <td>16.725769</td>\n",
              "      <td>291296</td>\n",
              "      <td>747</td>\n",
              "      <td>1639.029692</td>\n",
              "      <td>28428970</td>\n",
              "      <td>2400</td>\n",
              "    </tr>\n",
              "    <tr>\n",
              "      <th>1</th>\n",
              "      <td>AA</td>\n",
              "      <td>2013</td>\n",
              "      <td>8.586016</td>\n",
              "      <td>275551</td>\n",
              "      <td>1014</td>\n",
              "      <td>1521.436757</td>\n",
              "      <td>48775741</td>\n",
              "      <td>2400</td>\n",
              "    </tr>\n",
              "    <tr>\n",
              "      <th>13</th>\n",
              "      <td>AS</td>\n",
              "      <td>2013</td>\n",
              "      <td>5.804775</td>\n",
              "      <td>4133</td>\n",
              "      <td>225</td>\n",
              "      <td>1564.894663</td>\n",
              "      <td>1114205</td>\n",
              "      <td>2355</td>\n",
              "    </tr>\n",
              "    <tr>\n",
              "      <th>15</th>\n",
              "      <td>B6</td>\n",
              "      <td>2013</td>\n",
              "      <td>13.022522</td>\n",
              "      <td>705417</td>\n",
              "      <td>502</td>\n",
              "      <td>1405.725012</td>\n",
              "      <td>76101735</td>\n",
              "      <td>2400</td>\n",
              "    </tr>\n",
              "    <tr>\n",
              "      <th>8</th>\n",
              "      <td>DL</td>\n",
              "      <td>2013</td>\n",
              "      <td>9.264505</td>\n",
              "      <td>442482</td>\n",
              "      <td>960</td>\n",
              "      <td>1572.877812</td>\n",
              "      <td>75098624</td>\n",
              "      <td>2400</td>\n",
              "    </tr>\n",
              "  </tbody>\n",
              "</table>\n",
              "</div>\n",
              "      <button class=\"colab-df-convert\" onclick=\"convertToInteractive('df-c1e250db-6691-479d-9a85-645ec2a40f6e')\"\n",
              "              title=\"Convert this dataframe to an interactive table.\"\n",
              "              style=\"display:none;\">\n",
              "        \n",
              "  <svg xmlns=\"http://www.w3.org/2000/svg\" height=\"24px\"viewBox=\"0 0 24 24\"\n",
              "       width=\"24px\">\n",
              "    <path d=\"M0 0h24v24H0V0z\" fill=\"none\"/>\n",
              "    <path d=\"M18.56 5.44l.94 2.06.94-2.06 2.06-.94-2.06-.94-.94-2.06-.94 2.06-2.06.94zm-11 1L8.5 8.5l.94-2.06 2.06-.94-2.06-.94L8.5 2.5l-.94 2.06-2.06.94zm10 10l.94 2.06.94-2.06 2.06-.94-2.06-.94-.94-2.06-.94 2.06-2.06.94z\"/><path d=\"M17.41 7.96l-1.37-1.37c-.4-.4-.92-.59-1.43-.59-.52 0-1.04.2-1.43.59L10.3 9.45l-7.72 7.72c-.78.78-.78 2.05 0 2.83L4 21.41c.39.39.9.59 1.41.59.51 0 1.02-.2 1.41-.59l7.78-7.78 2.81-2.81c.8-.78.8-2.07 0-2.86zM5.41 20L4 18.59l7.72-7.72 1.47 1.35L5.41 20z\"/>\n",
              "  </svg>\n",
              "      </button>\n",
              "      \n",
              "  <style>\n",
              "    .colab-df-container {\n",
              "      display:flex;\n",
              "      flex-wrap:wrap;\n",
              "      gap: 12px;\n",
              "    }\n",
              "\n",
              "    .colab-df-convert {\n",
              "      background-color: #E8F0FE;\n",
              "      border: none;\n",
              "      border-radius: 50%;\n",
              "      cursor: pointer;\n",
              "      display: none;\n",
              "      fill: #1967D2;\n",
              "      height: 32px;\n",
              "      padding: 0 0 0 0;\n",
              "      width: 32px;\n",
              "    }\n",
              "\n",
              "    .colab-df-convert:hover {\n",
              "      background-color: #E2EBFA;\n",
              "      box-shadow: 0px 1px 2px rgba(60, 64, 67, 0.3), 0px 1px 3px 1px rgba(60, 64, 67, 0.15);\n",
              "      fill: #174EA6;\n",
              "    }\n",
              "\n",
              "    [theme=dark] .colab-df-convert {\n",
              "      background-color: #3B4455;\n",
              "      fill: #D2E3FC;\n",
              "    }\n",
              "\n",
              "    [theme=dark] .colab-df-convert:hover {\n",
              "      background-color: #434B5C;\n",
              "      box-shadow: 0px 1px 3px 1px rgba(0, 0, 0, 0.15);\n",
              "      filter: drop-shadow(0px 1px 2px rgba(0, 0, 0, 0.3));\n",
              "      fill: #FFFFFF;\n",
              "    }\n",
              "  </style>\n",
              "\n",
              "      <script>\n",
              "        const buttonEl =\n",
              "          document.querySelector('#df-c1e250db-6691-479d-9a85-645ec2a40f6e button.colab-df-convert');\n",
              "        buttonEl.style.display =\n",
              "          google.colab.kernel.accessAllowed ? 'block' : 'none';\n",
              "\n",
              "        async function convertToInteractive(key) {\n",
              "          const element = document.querySelector('#df-c1e250db-6691-479d-9a85-645ec2a40f6e');\n",
              "          const dataTable =\n",
              "            await google.colab.kernel.invokeFunction('convertToInteractive',\n",
              "                                                     [key], {});\n",
              "          if (!dataTable) return;\n",
              "\n",
              "          const docLinkHtml = 'Like what you see? Visit the ' +\n",
              "            '<a target=\"_blank\" href=https://colab.research.google.com/notebooks/data_table.ipynb>data table notebook</a>'\n",
              "            + ' to learn more about interactive tables.';\n",
              "          element.innerHTML = '';\n",
              "          dataTable['output_type'] = 'display_data';\n",
              "          await google.colab.output.renderOutput(dataTable, element);\n",
              "          const docLink = document.createElement('div');\n",
              "          docLink.innerHTML = docLinkHtml;\n",
              "          element.appendChild(docLink);\n",
              "        }\n",
              "      </script>\n",
              "    </div>\n",
              "  </div>\n",
              "  "
            ]
          },
          "metadata": {},
          "execution_count": 30
        }
      ]
    },
    {
      "cell_type": "code",
      "source": [
        "agg_sparksql.sort_values(['carrier','year']).head()"
      ],
      "metadata": {
        "colab": {
          "base_uri": "https://localhost:8080/",
          "height": 206
        },
        "id": "tZK61B1MUU_I",
        "outputId": "b865986f-1bd9-4aac-ce00-c8c901ca2d18"
      },
      "execution_count": 31,
      "outputs": [
        {
          "output_type": "execute_result",
          "data": {
            "text/plain": [
              "   carrier  year  avg_dep_delay  sum_dep_delay  max_dep_delay  avg_arr_delay  \\\n",
              "6       9E  2013      16.725769         291296            747    1639.029692   \n",
              "1       AA  2013       8.586016         275551           1014    1521.436757   \n",
              "13      AS  2013       5.804775           4133            225    1564.894663   \n",
              "15      B6  2013      13.022522         705417            502    1405.725012   \n",
              "8       DL  2013       9.264505         442482            960    1572.877812   \n",
              "\n",
              "    sum_arr_delay  max_arr_delay  \n",
              "6        28428970           2400  \n",
              "1        48775741           2400  \n",
              "13        1114205           2355  \n",
              "15       76101735           2400  \n",
              "8        75098624           2400  "
            ],
            "text/html": [
              "\n",
              "  <div id=\"df-d047c9dd-611b-4146-9ab9-e44b98d0b621\">\n",
              "    <div class=\"colab-df-container\">\n",
              "      <div>\n",
              "<style scoped>\n",
              "    .dataframe tbody tr th:only-of-type {\n",
              "        vertical-align: middle;\n",
              "    }\n",
              "\n",
              "    .dataframe tbody tr th {\n",
              "        vertical-align: top;\n",
              "    }\n",
              "\n",
              "    .dataframe thead th {\n",
              "        text-align: right;\n",
              "    }\n",
              "</style>\n",
              "<table border=\"1\" class=\"dataframe\">\n",
              "  <thead>\n",
              "    <tr style=\"text-align: right;\">\n",
              "      <th></th>\n",
              "      <th>carrier</th>\n",
              "      <th>year</th>\n",
              "      <th>avg_dep_delay</th>\n",
              "      <th>sum_dep_delay</th>\n",
              "      <th>max_dep_delay</th>\n",
              "      <th>avg_arr_delay</th>\n",
              "      <th>sum_arr_delay</th>\n",
              "      <th>max_arr_delay</th>\n",
              "    </tr>\n",
              "  </thead>\n",
              "  <tbody>\n",
              "    <tr>\n",
              "      <th>6</th>\n",
              "      <td>9E</td>\n",
              "      <td>2013</td>\n",
              "      <td>16.725769</td>\n",
              "      <td>291296</td>\n",
              "      <td>747</td>\n",
              "      <td>1639.029692</td>\n",
              "      <td>28428970</td>\n",
              "      <td>2400</td>\n",
              "    </tr>\n",
              "    <tr>\n",
              "      <th>1</th>\n",
              "      <td>AA</td>\n",
              "      <td>2013</td>\n",
              "      <td>8.586016</td>\n",
              "      <td>275551</td>\n",
              "      <td>1014</td>\n",
              "      <td>1521.436757</td>\n",
              "      <td>48775741</td>\n",
              "      <td>2400</td>\n",
              "    </tr>\n",
              "    <tr>\n",
              "      <th>13</th>\n",
              "      <td>AS</td>\n",
              "      <td>2013</td>\n",
              "      <td>5.804775</td>\n",
              "      <td>4133</td>\n",
              "      <td>225</td>\n",
              "      <td>1564.894663</td>\n",
              "      <td>1114205</td>\n",
              "      <td>2355</td>\n",
              "    </tr>\n",
              "    <tr>\n",
              "      <th>15</th>\n",
              "      <td>B6</td>\n",
              "      <td>2013</td>\n",
              "      <td>13.022522</td>\n",
              "      <td>705417</td>\n",
              "      <td>502</td>\n",
              "      <td>1405.725012</td>\n",
              "      <td>76101735</td>\n",
              "      <td>2400</td>\n",
              "    </tr>\n",
              "    <tr>\n",
              "      <th>8</th>\n",
              "      <td>DL</td>\n",
              "      <td>2013</td>\n",
              "      <td>9.264505</td>\n",
              "      <td>442482</td>\n",
              "      <td>960</td>\n",
              "      <td>1572.877812</td>\n",
              "      <td>75098624</td>\n",
              "      <td>2400</td>\n",
              "    </tr>\n",
              "  </tbody>\n",
              "</table>\n",
              "</div>\n",
              "      <button class=\"colab-df-convert\" onclick=\"convertToInteractive('df-d047c9dd-611b-4146-9ab9-e44b98d0b621')\"\n",
              "              title=\"Convert this dataframe to an interactive table.\"\n",
              "              style=\"display:none;\">\n",
              "        \n",
              "  <svg xmlns=\"http://www.w3.org/2000/svg\" height=\"24px\"viewBox=\"0 0 24 24\"\n",
              "       width=\"24px\">\n",
              "    <path d=\"M0 0h24v24H0V0z\" fill=\"none\"/>\n",
              "    <path d=\"M18.56 5.44l.94 2.06.94-2.06 2.06-.94-2.06-.94-.94-2.06-.94 2.06-2.06.94zm-11 1L8.5 8.5l.94-2.06 2.06-.94-2.06-.94L8.5 2.5l-.94 2.06-2.06.94zm10 10l.94 2.06.94-2.06 2.06-.94-2.06-.94-.94-2.06-.94 2.06-2.06.94z\"/><path d=\"M17.41 7.96l-1.37-1.37c-.4-.4-.92-.59-1.43-.59-.52 0-1.04.2-1.43.59L10.3 9.45l-7.72 7.72c-.78.78-.78 2.05 0 2.83L4 21.41c.39.39.9.59 1.41.59.51 0 1.02-.2 1.41-.59l7.78-7.78 2.81-2.81c.8-.78.8-2.07 0-2.86zM5.41 20L4 18.59l7.72-7.72 1.47 1.35L5.41 20z\"/>\n",
              "  </svg>\n",
              "      </button>\n",
              "      \n",
              "  <style>\n",
              "    .colab-df-container {\n",
              "      display:flex;\n",
              "      flex-wrap:wrap;\n",
              "      gap: 12px;\n",
              "    }\n",
              "\n",
              "    .colab-df-convert {\n",
              "      background-color: #E8F0FE;\n",
              "      border: none;\n",
              "      border-radius: 50%;\n",
              "      cursor: pointer;\n",
              "      display: none;\n",
              "      fill: #1967D2;\n",
              "      height: 32px;\n",
              "      padding: 0 0 0 0;\n",
              "      width: 32px;\n",
              "    }\n",
              "\n",
              "    .colab-df-convert:hover {\n",
              "      background-color: #E2EBFA;\n",
              "      box-shadow: 0px 1px 2px rgba(60, 64, 67, 0.3), 0px 1px 3px 1px rgba(60, 64, 67, 0.15);\n",
              "      fill: #174EA6;\n",
              "    }\n",
              "\n",
              "    [theme=dark] .colab-df-convert {\n",
              "      background-color: #3B4455;\n",
              "      fill: #D2E3FC;\n",
              "    }\n",
              "\n",
              "    [theme=dark] .colab-df-convert:hover {\n",
              "      background-color: #434B5C;\n",
              "      box-shadow: 0px 1px 3px 1px rgba(0, 0, 0, 0.15);\n",
              "      filter: drop-shadow(0px 1px 2px rgba(0, 0, 0, 0.3));\n",
              "      fill: #FFFFFF;\n",
              "    }\n",
              "  </style>\n",
              "\n",
              "      <script>\n",
              "        const buttonEl =\n",
              "          document.querySelector('#df-d047c9dd-611b-4146-9ab9-e44b98d0b621 button.colab-df-convert');\n",
              "        buttonEl.style.display =\n",
              "          google.colab.kernel.accessAllowed ? 'block' : 'none';\n",
              "\n",
              "        async function convertToInteractive(key) {\n",
              "          const element = document.querySelector('#df-d047c9dd-611b-4146-9ab9-e44b98d0b621');\n",
              "          const dataTable =\n",
              "            await google.colab.kernel.invokeFunction('convertToInteractive',\n",
              "                                                     [key], {});\n",
              "          if (!dataTable) return;\n",
              "\n",
              "          const docLinkHtml = 'Like what you see? Visit the ' +\n",
              "            '<a target=\"_blank\" href=https://colab.research.google.com/notebooks/data_table.ipynb>data table notebook</a>'\n",
              "            + ' to learn more about interactive tables.';\n",
              "          element.innerHTML = '';\n",
              "          dataTable['output_type'] = 'display_data';\n",
              "          await google.colab.output.renderOutput(dataTable, element);\n",
              "          const docLink = document.createElement('div');\n",
              "          docLink.innerHTML = docLinkHtml;\n",
              "          element.appendChild(docLink);\n",
              "        }\n",
              "      </script>\n",
              "    </div>\n",
              "  </div>\n",
              "  "
            ]
          },
          "metadata": {},
          "execution_count": 31
        }
      ]
    }
  ]
}