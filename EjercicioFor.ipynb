{
  "nbformat": 4,
  "nbformat_minor": 0,
  "metadata": {
    "colab": {
      "name": "EjercicioFor.ipynb",
      "provenance": [],
      "collapsed_sections": []
    },
    "kernelspec": {
      "name": "python3",
      "display_name": "Python 3"
    },
    "language_info": {
      "name": "python"
    }
  },
  "cells": [
    {
      "cell_type": "code",
      "metadata": {
        "colab": {
          "base_uri": "https://localhost:8080/"
        },
        "id": "9tJcZDR1CsaU",
        "outputId": "b45f7a3c-ddfb-48ca-cbb2-af13ea1de85a"
      },
      "source": [
        "personas = ['Maria','Pedro','Martin']\n",
        "\n",
        "for i in personas:\n",
        "  print(i)\n",
        "\n",
        "print('Fin del Bucle')"
      ],
      "execution_count": 5,
      "outputs": [
        {
          "output_type": "stream",
          "text": [
            "Maria\n",
            "Pedro\n",
            "Martin\n",
            "Fin del Bucle\n"
          ],
          "name": "stdout"
        }
      ]
    },
    {
      "cell_type": "code",
      "metadata": {
        "colab": {
          "base_uri": "https://localhost:8080/"
        },
        "id": "kz2WYbtHDUbE",
        "outputId": "51bdfc75-7696-4128-ee92-b61f64e49747"
      },
      "source": [
        "for i in range(5):\n",
        "  print(i)"
      ],
      "execution_count": 6,
      "outputs": [
        {
          "output_type": "stream",
          "text": [
            "0\n",
            "1\n",
            "2\n",
            "3\n",
            "4\n"
          ],
          "name": "stdout"
        }
      ]
    },
    {
      "cell_type": "code",
      "metadata": {
        "colab": {
          "base_uri": "https://localhost:8080/"
        },
        "id": "2wydYwlJDeXE",
        "outputId": "5f0b6709-f801-4929-f1e4-f3def229c3ac"
      },
      "source": [
        "for iterador in range(3):\n",
        "  print(iterador)"
      ],
      "execution_count": 7,
      "outputs": [
        {
          "output_type": "stream",
          "text": [
            "0\n",
            "1\n",
            "2\n"
          ],
          "name": "stdout"
        }
      ]
    },
    {
      "cell_type": "code",
      "metadata": {
        "colab": {
          "base_uri": "https://localhost:8080/"
        },
        "id": "fiJV1ISHDk6j",
        "outputId": "2123351a-6e9a-48cd-bb12-f7c49d589ac4"
      },
      "source": [
        "for i in range(7):\n",
        "  print('¡Hola Mundo!')"
      ],
      "execution_count": 8,
      "outputs": [
        {
          "output_type": "stream",
          "text": [
            "¡Hola Mundo!\n",
            "¡Hola Mundo!\n",
            "¡Hola Mundo!\n",
            "¡Hola Mundo!\n",
            "¡Hola Mundo!\n",
            "¡Hola Mundo!\n",
            "¡Hola Mundo!\n"
          ],
          "name": "stdout"
        }
      ]
    },
    {
      "cell_type": "code",
      "metadata": {
        "colab": {
          "base_uri": "https://localhost:8080/"
        },
        "id": "DJRNlYkZDx7v",
        "outputId": "7c3b7282-b3d9-470c-89d4-69219be8a0ec"
      },
      "source": [
        "for i in range(7):\n",
        "  print('¡Hola Mundo!')\n",
        "print('Fin del Bucle')"
      ],
      "execution_count": 9,
      "outputs": [
        {
          "output_type": "stream",
          "text": [
            "¡Hola Mundo!\n",
            "¡Hola Mundo!\n",
            "¡Hola Mundo!\n",
            "¡Hola Mundo!\n",
            "¡Hola Mundo!\n",
            "¡Hola Mundo!\n",
            "¡Hola Mundo!\n",
            "Fin del Bucle\n"
          ],
          "name": "stdout"
        }
      ]
    },
    {
      "cell_type": "code",
      "metadata": {
        "colab": {
          "base_uri": "https://localhost:8080/"
        },
        "id": "Hlts1WZCD742",
        "outputId": "177a0779-500d-4260-fff2-3980b1d86bb2"
      },
      "source": [
        "for i in range(7):\n",
        "  print('¡Hola Mundo!')\n",
        "  print('     -     ')"
      ],
      "execution_count": 11,
      "outputs": [
        {
          "output_type": "stream",
          "text": [
            "¡Hola Mundo!\n",
            "     -     \n",
            "¡Hola Mundo!\n",
            "     -     \n",
            "¡Hola Mundo!\n",
            "     -     \n",
            "¡Hola Mundo!\n",
            "     -     \n",
            "¡Hola Mundo!\n",
            "     -     \n",
            "¡Hola Mundo!\n",
            "     -     \n",
            "¡Hola Mundo!\n",
            "     -     \n"
          ],
          "name": "stdout"
        }
      ]
    },
    {
      "cell_type": "code",
      "metadata": {
        "colab": {
          "base_uri": "https://localhost:8080/"
        },
        "id": "GniX6wQsEO-4",
        "outputId": "ab582b94-79e9-470b-a557-bf0f54d18ec2"
      },
      "source": [
        "total = 0\n",
        "\n",
        "for i in range(5):\n",
        "  nuevo_number = int(input('Ingrese un Número: '))\n",
        "  if nuevo_number == 0:\n",
        "    total += 1\n",
        "    #print fuera del bucle for y  dentro de la expresión logica if\n",
        "    print(f'Ha introducido {total} ceros')"
      ],
      "execution_count": 20,
      "outputs": [
        {
          "output_type": "stream",
          "text": [
            "Ingrese un Número: 1\n",
            "Ingrese un Número: 2\n",
            "Ingrese un Número: 0\n",
            "Ha introducido 1 ceros\n",
            "Ingrese un Número: 0\n",
            "Ha introducido 2 ceros\n",
            "Ingrese un Número: 0\n",
            "Ha introducido 3 ceros\n"
          ],
          "name": "stdout"
        }
      ]
    },
    {
      "cell_type": "code",
      "metadata": {
        "colab": {
          "base_uri": "https://localhost:8080/"
        },
        "id": "-SXuLxV4FG-m",
        "outputId": "d7121139-6f60-4a43-ce31-868f8662f1ed"
      },
      "source": [
        "total = 0\n",
        "\n",
        "for i in range(5):\n",
        "  nuevo_number = int(input('Ingrese un Número: '))\n",
        "  if nuevo_number == 0:\n",
        "    total += 1\n",
        "  #print dentro del bucle for y  fuera de la expresión logica if\n",
        "  print(f'Ha introducido {total} ceros')"
      ],
      "execution_count": 22,
      "outputs": [
        {
          "output_type": "stream",
          "text": [
            "Ingrese un Número: 1\n",
            "Ha introducido 0 ceros\n",
            "Ingrese un Número: 2\n",
            "Ha introducido 0 ceros\n",
            "Ingrese un Número: 0\n",
            "Ha introducido 1 ceros\n",
            "Ingrese un Número: 0\n",
            "Ha introducido 2 ceros\n",
            "Ingrese un Número: 0\n",
            "Ha introducido 3 ceros\n"
          ],
          "name": "stdout"
        }
      ]
    },
    {
      "cell_type": "code",
      "metadata": {
        "colab": {
          "base_uri": "https://localhost:8080/"
        },
        "id": "zKhJ_LT4Fy92",
        "outputId": "34655983-a480-4aef-f361-938c48f4f45c"
      },
      "source": [
        "total = 0\n",
        "\n",
        "for i in range(5):\n",
        "  nuevo_number = int(input('Ingrese un Número: '))\n",
        "  if nuevo_number == 0:\n",
        "    total += 1\n",
        "\n",
        "#print afuera del bucle for y de la expresión logica if\n",
        "print(f'Ha introducido {total} ceros')"
      ],
      "execution_count": 23,
      "outputs": [
        {
          "output_type": "stream",
          "text": [
            "Ingrese un Número: 1\n",
            "Ingrese un Número: 2\n",
            "Ingrese un Número: 0\n",
            "Ingrese un Número: 0\n",
            "Ingrese un Número: 0\n",
            "Ha introducido 3 ceros\n"
          ],
          "name": "stdout"
        }
      ]
    }
  ]
}