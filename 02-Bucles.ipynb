{
 "cells": [
  {
   "cell_type": "markdown",
   "metadata": {},
   "source": [
    "# Bucles"
   ]
  },
  {
   "cell_type": "markdown",
   "metadata": {},
   "source": [
    "LOs Bucles **for** iteran sobre una colección (lista,string,objeto iterable)"
   ]
  },
  {
   "cell_type": "code",
   "execution_count": 1,
   "metadata": {
    "collapsed": true
   },
   "outputs": [],
   "source": [
    "L = [1,2,3,4,5,6]"
   ]
  },
  {
   "cell_type": "code",
   "execution_count": 2,
   "metadata": {
    "collapsed": false
   },
   "outputs": [
    {
     "name": "stdout",
     "output_type": "stream",
     "text": [
      "1\n",
      "2\n",
      "3\n",
      "4\n",
      "5\n",
      "6\n"
     ]
    }
   ],
   "source": [
    "for numero in L:\n",
    "    print(numero)"
   ]
  },
  {
   "cell_type": "code",
   "execution_count": 3,
   "metadata": {
    "collapsed": false
   },
   "outputs": [
    {
     "data": {
      "text/plain": [
       "6"
      ]
     },
     "execution_count": 3,
     "metadata": {},
     "output_type": "execute_result"
    }
   ],
   "source": [
    "numero"
   ]
  },
  {
   "cell_type": "code",
   "execution_count": 4,
   "metadata": {
    "collapsed": false
   },
   "outputs": [
    {
     "name": "stdout",
     "output_type": "stream",
     "text": [
      "0\n",
      "1\n",
      "2\n",
      "3\n",
      "4\n",
      "5\n",
      "6\n",
      "7\n",
      "8\n",
      "9\n"
     ]
    }
   ],
   "source": [
    "for x in range(0,10): # range(10) = range(0,10)\n",
    "    print(x)"
   ]
  },
  {
   "cell_type": "code",
   "execution_count": 10,
   "metadata": {
    "collapsed": false
   },
   "outputs": [
    {
     "name": "stdout",
     "output_type": "stream",
     "text": [
      "D\n",
      "a\n",
      "r\n",
      "w\n",
      "i\n",
      "n\n",
      " \n",
      "P\n",
      "é\n",
      "r\n",
      "e\n",
      "z\n"
     ]
    }
   ],
   "source": [
    "for c in 'Darwin Pérez':\n",
    "    print(c)"
   ]
  },
  {
   "cell_type": "code",
   "execution_count": 6,
   "metadata": {
    "collapsed": true
   },
   "outputs": [],
   "source": [
    "notas = [3.5,6.7,8,9,4.5]"
   ]
  },
  {
   "cell_type": "code",
   "execution_count": 7,
   "metadata": {
    "collapsed": false
   },
   "outputs": [
    {
     "name": "stdout",
     "output_type": "stream",
     "text": [
      "6.34\n"
     ]
    }
   ],
   "source": [
    "suma = 0\n",
    "for nota in notas:\n",
    "    suma = suma + nota\n",
    "print(suma/len(notas))"
   ]
  },
  {
   "cell_type": "markdown",
   "metadata": {},
   "source": [
    "El Bucle **While** se repite hasta que la condición booleana deje de ser cierta."
   ]
  },
  {
   "cell_type": "code",
   "execution_count": 18,
   "metadata": {
    "collapsed": false
   },
   "outputs": [
    {
     "name": "stdout",
     "output_type": "stream",
     "text": [
      "0\n",
      "1\n",
      "2\n",
      "3\n",
      "4\n",
      "5\n",
      "6\n",
      "7\n",
      "8\n",
      "9\n"
     ]
    }
   ],
   "source": [
    "count = 0\n",
    "while count < 10:\n",
    "    print(count)\n",
    "    count +=1"
   ]
  },
  {
   "cell_type": "code",
   "execution_count": 16,
   "metadata": {
    "collapsed": false
   },
   "outputs": [
    {
     "name": "stdout",
     "output_type": "stream",
     "text": [
      "0 2\n",
      "1 3\n",
      "2 5\n",
      "3 7\n",
      "4 11\n",
      "5 13\n",
      "6 17\n",
      "7 19\n",
      "8 23\n",
      "9 29\n"
     ]
    }
   ],
   "source": [
    "primos = [2,3,5,7,11,13,17,19,23,29]\n",
    "for idx, p in enumerate(primos):\n",
    "    print(idx, p)"
   ]
  },
  {
   "cell_type": "code",
   "execution_count": 19,
   "metadata": {
    "collapsed": false
   },
   "outputs": [
    {
     "name": "stdout",
     "output_type": "stream",
     "text": [
      "0\n",
      "1\n",
      "2\n",
      "3\n",
      "4\n",
      "5\n",
      "6\n",
      "7\n",
      "8\n",
      "9\n"
     ]
    }
   ],
   "source": [
    "for idx in range(len(primos)):\n",
    "    print(idx)"
   ]
  },
  {
   "cell_type": "code",
   "execution_count": 20,
   "metadata": {
    "collapsed": false
   },
   "outputs": [
    {
     "name": "stdout",
     "output_type": "stream",
     "text": [
      "0 2\n",
      "1 3\n",
      "2 5\n",
      "3 7\n",
      "4 11\n",
      "5 13\n",
      "6 17\n",
      "7 19\n",
      "8 23\n",
      "9 29\n"
     ]
    }
   ],
   "source": [
    "for idx in range(len(primos)):\n",
    "    print(idx,primos[idx])"
   ]
  },
  {
   "cell_type": "code",
   "execution_count": null,
   "metadata": {
    "collapsed": false
   },
   "outputs": [],
   "source": [
    "criba=[]\n",
    "\n",
    "for valor in range(1,100):\n",
    "    criba.append(valor)\n",
    "\n",
    "print('INICIO',criba)\n",
    "\n",
    "contador=0\n",
    "total=len(criba)\n",
    "esprimo=1\n",
    "\n",
    "while(contador<=total):\n",
    "    auxiliar=2\n",
    "    esprimo=1\n",
    "    while(auxiliar<=contador/2 and esprimo!=0):\n",
    "        esprimo=contador%auxiliar\n",
    "        if esprimo==0: #print (“% no es primo”, contador)\n",
    "            criba.remove(contador)\n",
    "        auxiliar=auxiliar+1\n",
    "    contador=contador+1\n",
    "            \n",
    "print('PRIMOS', criba)\n",
    "criba2=criba[::-1]\n",
    "print('PRIMOS ALREVES:',criba2)"
   ]
  },
  {
   "cell_type": "code",
   "execution_count": null,
   "metadata": {
    "collapsed": true
   },
   "outputs": [],
   "source": [
    "def criba(n):\n",
    "    primes = []\n",
    "    isPrime = [1 for i in range(n)]\n",
    "    isPrime[0] = isPrime[1] = 0\n",
    "\n",
    "    for i in range(n):\n",
    "        if isPrime[i]:\n",
    "            primes.append(i)\n",
    "            h = 2\n",
    "            while i*h < n:\n",
    "                isPrime[i*h] = 0\n",
    "                h += 1\n",
    "\n",
    "    return primes, isPrime"
   ]
  },
  {
   "cell_type": "code",
   "execution_count": null,
   "metadata": {
    "collapsed": true
   },
   "outputs": [],
   "source": [
    "criba(120)"
   ]
  },
  {
   "cell_type": "code",
   "execution_count": null,
   "metadata": {
    "collapsed": true
   },
   "outputs": [],
   "source": []
  }
 ],
 "metadata": {
  "kernelspec": {
   "display_name": "Python 3.7.4 32-bit",
   "language": "python",
   "name": "python37432bit4475c58d4f8244e59d798971f987b8f7"
  },
  "language_info": {
   "codemirror_mode": {
    "name": "ipython",
    "version": 3
   },
   "file_extension": ".py",
   "mimetype": "text/x-python",
   "name": "python",
   "nbconvert_exporter": "python",
   "pygments_lexer": "ipython3",
   "version": "3.7.4"
  }
 },
 "nbformat": 4,
 "nbformat_minor": 1
}
