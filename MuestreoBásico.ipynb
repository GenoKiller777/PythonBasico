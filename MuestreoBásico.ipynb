{
  "nbformat": 4,
  "nbformat_minor": 0,
  "metadata": {
    "colab": {
      "name": "MuestreoBásico.ipynb",
      "provenance": [],
      "collapsed_sections": []
    },
    "kernelspec": {
      "name": "python3",
      "display_name": "Python 3"
    },
    "language_info": {
      "name": "python"
    }
  },
  "cells": [
    {
      "cell_type": "code",
      "metadata": {
        "colab": {
          "base_uri": "https://localhost:8080/"
        },
        "id": "toN14IHRupaT",
        "outputId": "34f7b821-cda1-432c-c049-15bec7e88ff3"
      },
      "source": [
        "!python --version"
      ],
      "execution_count": 1,
      "outputs": [
        {
          "output_type": "stream",
          "name": "stdout",
          "text": [
            "Python 3.7.12\n"
          ]
        }
      ]
    },
    {
      "cell_type": "code",
      "metadata": {
        "colab": {
          "base_uri": "https://localhost:8080/",
          "height": 35
        },
        "id": "0PXQ9KIFwxwY",
        "outputId": "13fe299c-b98d-43db-d32f-9c8ef7db41ea"
      },
      "source": [
        "import pandas as pd\n",
        "pd.__version__"
      ],
      "execution_count": 2,
      "outputs": [
        {
          "output_type": "execute_result",
          "data": {
            "application/vnd.google.colaboratory.intrinsic+json": {
              "type": "string"
            },
            "text/plain": [
              "'1.1.5'"
            ]
          },
          "metadata": {},
          "execution_count": 2
        }
      ]
    },
    {
      "cell_type": "code",
      "metadata": {
        "id": "Fq3v7HoIw6M0"
      },
      "source": [
        "url = 'https://raw.githubusercontent.com/LilianaC/Pandas/master/Sevengill%20shark%20data%20-%20Sevengill%20Shark%20Tag%20Catch%20Data.csv'\n",
        "dataframe = pd.read_csv(url)"
      ],
      "execution_count": 9,
      "outputs": []
    },
    {
      "cell_type": "code",
      "metadata": {
        "id": "o2LrZMW8x5vz"
      },
      "source": [
        "dataframe"
      ],
      "execution_count": null,
      "outputs": []
    },
    {
      "cell_type": "markdown",
      "metadata": {
        "id": "8fr5tYHOxk6S"
      },
      "source": [
        "###Información del DataFrame\n"
      ]
    },
    {
      "cell_type": "code",
      "metadata": {
        "colab": {
          "base_uri": "https://localhost:8080/"
        },
        "id": "0-M0vMTWxDi-",
        "outputId": "3270139c-4103-4806-93f4-be86d01ff7b1"
      },
      "source": [
        "dataframe.info()"
      ],
      "execution_count": 12,
      "outputs": [
        {
          "output_type": "stream",
          "name": "stdout",
          "text": [
            "<class 'pandas.core.frame.DataFrame'>\n",
            "RangeIndex: 32 entries, 0 to 31\n",
            "Data columns (total 12 columns):\n",
            " #   Column              Non-Null Count  Dtype  \n",
            "---  ------              --------------  -----  \n",
            " 0   Tagged Fish Id      32 non-null     object \n",
            " 1   Date                32 non-null     object \n",
            " 2   Tag Life            32 non-null     int64  \n",
            " 3   Transmitter Model   32 non-null     object \n",
            " 4   Tagging Location    32 non-null     object \n",
            " 5   Total Length        32 non-null     int64  \n",
            " 6   Weight              30 non-null     float64\n",
            " 7   Sex                 32 non-null     object \n",
            " 8   Record Number       32 non-null     object \n",
            " 9   Accessed Date       32 non-null     object \n",
            " 10  Source Url          32 non-null     object \n",
            " 11  Preferred Citation  32 non-null     object \n",
            "dtypes: float64(1), int64(2), object(9)\n",
            "memory usage: 3.1+ KB\n"
          ]
        }
      ]
    },
    {
      "cell_type": "markdown",
      "metadata": {
        "id": "9t9tYiYUyFUd"
      },
      "source": [
        "###Muestra de registros | Todas las columnas del dataframe | con **n** definido por el usuario"
      ]
    },
    {
      "cell_type": "code",
      "metadata": {
        "colab": {
          "base_uri": "https://localhost:8080/",
          "height": 402
        },
        "id": "ts0cAnrdyE9o",
        "outputId": "93d1d257-477d-427f-b6a9-d9c551e33a94"
      },
      "source": [
        "dataframe.sample(n = 7)"
      ],
      "execution_count": 15,
      "outputs": [
        {
          "output_type": "execute_result",
          "data": {
            "text/html": [
              "<div>\n",
              "<style scoped>\n",
              "    .dataframe tbody tr th:only-of-type {\n",
              "        vertical-align: middle;\n",
              "    }\n",
              "\n",
              "    .dataframe tbody tr th {\n",
              "        vertical-align: top;\n",
              "    }\n",
              "\n",
              "    .dataframe thead th {\n",
              "        text-align: right;\n",
              "    }\n",
              "</style>\n",
              "<table border=\"1\" class=\"dataframe\">\n",
              "  <thead>\n",
              "    <tr style=\"text-align: right;\">\n",
              "      <th></th>\n",
              "      <th>Tagged Fish Id</th>\n",
              "      <th>Date</th>\n",
              "      <th>Tag Life</th>\n",
              "      <th>Transmitter Model</th>\n",
              "      <th>Tagging Location</th>\n",
              "      <th>Total Length</th>\n",
              "      <th>Weight</th>\n",
              "      <th>Sex</th>\n",
              "      <th>Record Number</th>\n",
              "      <th>Accessed Date</th>\n",
              "      <th>Source Url</th>\n",
              "      <th>Preferred Citation</th>\n",
              "    </tr>\n",
              "  </thead>\n",
              "  <tbody>\n",
              "    <tr>\n",
              "      <th>21</th>\n",
              "      <td>1632B</td>\n",
              "      <td>2005-09-15 00:00:00</td>\n",
              "      <td>386</td>\n",
              "      <td>V16-5H-R04K-30-79</td>\n",
              "      <td>Grays Harbor</td>\n",
              "      <td>251</td>\n",
              "      <td>NaN</td>\n",
              "      <td>F</td>\n",
              "      <td>Row 22 of 32</td>\n",
              "      <td>Accessed on 2021-06-23 19:02:58</td>\n",
              "      <td>https://www.webapps.nwfsc.noaa.gov/apex/parrda...</td>\n",
              "      <td>Williams, Gregory; 06/05/2018. NOAA Fisheries ...</td>\n",
              "    </tr>\n",
              "    <tr>\n",
              "      <th>0</th>\n",
              "      <td>88A</td>\n",
              "      <td>2005-05-05 00:00:00</td>\n",
              "      <td>170</td>\n",
              "      <td>V13-1H-R256-20-60</td>\n",
              "      <td>Willapa Bay</td>\n",
              "      <td>162</td>\n",
              "      <td>16.0</td>\n",
              "      <td>F</td>\n",
              "      <td>Row 1 of 32</td>\n",
              "      <td>Accessed on 2021-06-23 19:02:58</td>\n",
              "      <td>https://www.webapps.nwfsc.noaa.gov/apex/parrda...</td>\n",
              "      <td>Williams, Gregory; 06/05/2018. NOAA Fisheries ...</td>\n",
              "    </tr>\n",
              "    <tr>\n",
              "      <th>1</th>\n",
              "      <td>1612B</td>\n",
              "      <td>2005-08-15 00:00:00</td>\n",
              "      <td>386</td>\n",
              "      <td>V16-5H-R04K-30-79</td>\n",
              "      <td>Willapa Bay</td>\n",
              "      <td>218</td>\n",
              "      <td>43.0</td>\n",
              "      <td>F</td>\n",
              "      <td>Row 2 of 32</td>\n",
              "      <td>Accessed on 2021-06-23 19:02:58</td>\n",
              "      <td>https://www.webapps.nwfsc.noaa.gov/apex/parrda...</td>\n",
              "      <td>Williams, Gregory; 06/05/2018. NOAA Fisheries ...</td>\n",
              "    </tr>\n",
              "    <tr>\n",
              "      <th>8</th>\n",
              "      <td>1619B</td>\n",
              "      <td>2005-08-15 00:00:00</td>\n",
              "      <td>386</td>\n",
              "      <td>V16-5H-R04K-30-79</td>\n",
              "      <td>Willapa Bay</td>\n",
              "      <td>139</td>\n",
              "      <td>12.0</td>\n",
              "      <td>F</td>\n",
              "      <td>Row 9 of 32</td>\n",
              "      <td>Accessed on 2021-06-23 19:02:58</td>\n",
              "      <td>https://www.webapps.nwfsc.noaa.gov/apex/parrda...</td>\n",
              "      <td>Williams, Gregory; 06/05/2018. NOAA Fisheries ...</td>\n",
              "    </tr>\n",
              "    <tr>\n",
              "      <th>24</th>\n",
              "      <td>4075B</td>\n",
              "      <td>2005-05-05 00:00:00</td>\n",
              "      <td>1905</td>\n",
              "      <td>V16-6H-R04K-60-183</td>\n",
              "      <td>Willapa Bay</td>\n",
              "      <td>210</td>\n",
              "      <td>44.0</td>\n",
              "      <td>M</td>\n",
              "      <td>Row 25 of 32</td>\n",
              "      <td>Accessed on 2021-06-23 19:02:58</td>\n",
              "      <td>https://www.webapps.nwfsc.noaa.gov/apex/parrda...</td>\n",
              "      <td>Williams, Gregory; 06/05/2018. NOAA Fisheries ...</td>\n",
              "    </tr>\n",
              "    <tr>\n",
              "      <th>26</th>\n",
              "      <td>4077B</td>\n",
              "      <td>2005-05-05 00:00:00</td>\n",
              "      <td>1905</td>\n",
              "      <td>V16-6H-R04K-60-183</td>\n",
              "      <td>Willapa Bay</td>\n",
              "      <td>234</td>\n",
              "      <td>57.0</td>\n",
              "      <td>M</td>\n",
              "      <td>Row 27 of 32</td>\n",
              "      <td>Accessed on 2021-06-23 19:02:58</td>\n",
              "      <td>https://www.webapps.nwfsc.noaa.gov/apex/parrda...</td>\n",
              "      <td>Williams, Gregory; 06/05/2018. NOAA Fisheries ...</td>\n",
              "    </tr>\n",
              "    <tr>\n",
              "      <th>23</th>\n",
              "      <td>1634B</td>\n",
              "      <td>2006-04-10 00:00:00</td>\n",
              "      <td>386</td>\n",
              "      <td>V16-5H-R04K-30-79</td>\n",
              "      <td>Willapa Bay</td>\n",
              "      <td>257</td>\n",
              "      <td>111.0</td>\n",
              "      <td>F</td>\n",
              "      <td>Row 24 of 32</td>\n",
              "      <td>Accessed on 2021-06-23 19:02:58</td>\n",
              "      <td>https://www.webapps.nwfsc.noaa.gov/apex/parrda...</td>\n",
              "      <td>Williams, Gregory; 06/05/2018. NOAA Fisheries ...</td>\n",
              "    </tr>\n",
              "  </tbody>\n",
              "</table>\n",
              "</div>"
            ],
            "text/plain": [
              "   Tagged Fish Id  ...                                 Preferred Citation\n",
              "21          1632B  ...  Williams, Gregory; 06/05/2018. NOAA Fisheries ...\n",
              "0             88A  ...  Williams, Gregory; 06/05/2018. NOAA Fisheries ...\n",
              "1           1612B  ...  Williams, Gregory; 06/05/2018. NOAA Fisheries ...\n",
              "8           1619B  ...  Williams, Gregory; 06/05/2018. NOAA Fisheries ...\n",
              "24          4075B  ...  Williams, Gregory; 06/05/2018. NOAA Fisheries ...\n",
              "26          4077B  ...  Williams, Gregory; 06/05/2018. NOAA Fisheries ...\n",
              "23          1634B  ...  Williams, Gregory; 06/05/2018. NOAA Fisheries ...\n",
              "\n",
              "[7 rows x 12 columns]"
            ]
          },
          "metadata": {},
          "execution_count": 15
        }
      ]
    },
    {
      "cell_type": "code",
      "metadata": {
        "colab": {
          "base_uri": "https://localhost:8080/"
        },
        "id": "-otRWmKsygjQ",
        "outputId": "256326d8-903f-4976-d53e-9979c4825700"
      },
      "source": [
        "dataframe_sample = dataframe.sample(n = 5).copy()\n",
        "print(\"Una muestra de: {} observaciones.\".format(len(dataframe_sample)))"
      ],
      "execution_count": 17,
      "outputs": [
        {
          "output_type": "stream",
          "name": "stdout",
          "text": [
            "Una muestra de: 5 observaciones.\n"
          ]
        }
      ]
    },
    {
      "cell_type": "markdown",
      "metadata": {
        "id": "m9qbAAQqzTnG"
      },
      "source": [
        "###Muestra de registros | Una columna del dataframe | con **n** definido por el usuario"
      ]
    },
    {
      "cell_type": "code",
      "metadata": {
        "colab": {
          "base_uri": "https://localhost:8080/"
        },
        "id": "Aj4Nni2TzP3z",
        "outputId": "08a8c74b-c99d-4ba0-d3f1-08990097df2a"
      },
      "source": [
        "dataframe['Weight'].sample(n = 7)"
      ],
      "execution_count": 18,
      "outputs": [
        {
          "output_type": "execute_result",
          "data": {
            "text/plain": [
              "21     NaN\n",
              "7     75.0\n",
              "4     20.0\n",
              "14    57.0\n",
              "12    20.0\n",
              "8     12.0\n",
              "1     43.0\n",
              "Name: Weight, dtype: float64"
            ]
          },
          "metadata": {},
          "execution_count": 18
        }
      ]
    },
    {
      "cell_type": "markdown",
      "metadata": {
        "id": "RBUELKOrzng2"
      },
      "source": [
        "###Muestra de registros | Porcentaje del total de la muestra| con **frac** definido por el usuario"
      ]
    },
    {
      "cell_type": "code",
      "metadata": {
        "colab": {
          "base_uri": "https://localhost:8080/"
        },
        "id": "xqUrKytSztMk",
        "outputId": "39260ca3-6c71-4afb-86dc-6161ac0e6621"
      },
      "source": [
        "dataframe['Weight'].sample(frac = .3)"
      ],
      "execution_count": 21,
      "outputs": [
        {
          "output_type": "execute_result",
          "data": {
            "text/plain": [
              "8     12.0\n",
              "7     75.0\n",
              "6     19.0\n",
              "29    50.0\n",
              "28    71.0\n",
              "19    36.0\n",
              "9     60.0\n",
              "16    16.0\n",
              "0     16.0\n",
              "3     17.0\n",
              "Name: Weight, dtype: float64"
            ]
          },
          "metadata": {},
          "execution_count": 21
        }
      ]
    },
    {
      "cell_type": "code",
      "metadata": {
        "colab": {
          "base_uri": "https://localhost:8080/"
        },
        "id": "nHKiRaSEz9NO",
        "outputId": "139068bf-6607-4af7-d40c-41eae75912d7"
      },
      "source": [
        "len(dataframe['Weight'].sample(frac = .3))"
      ],
      "execution_count": 22,
      "outputs": [
        {
          "output_type": "execute_result",
          "data": {
            "text/plain": [
              "10"
            ]
          },
          "metadata": {},
          "execution_count": 22
        }
      ]
    },
    {
      "cell_type": "markdown",
      "metadata": {
        "id": "630P4XnU0GS4"
      },
      "source": [
        "###Muestra de registros | Aleatoria | Siempre la misma muestra"
      ]
    },
    {
      "cell_type": "code",
      "metadata": {
        "colab": {
          "base_uri": "https://localhost:8080/"
        },
        "id": "8gNzF2av0cQw",
        "outputId": "08ea3071-38e1-414c-8636-cdc71eb74bb7"
      },
      "source": [
        "dataframe['Weight'].sample(n = 7, random_state = 1) #Reprosubilidad del experimento"
      ],
      "execution_count": 24,
      "outputs": [
        {
          "output_type": "execute_result",
          "data": {
            "text/plain": [
              "27     30.0\n",
              "3      17.0\n",
              "22     27.0\n",
              "18     30.0\n",
              "23    111.0\n",
              "17     38.0\n",
              "21      NaN\n",
              "Name: Weight, dtype: float64"
            ]
          },
          "metadata": {},
          "execution_count": 24
        }
      ]
    },
    {
      "cell_type": "markdown",
      "metadata": {
        "id": "ttfvXodo0ElQ"
      },
      "source": [
        "###Muestra de registros | Aleatoria | Cambiar la selección"
      ]
    },
    {
      "cell_type": "code",
      "metadata": {
        "colab": {
          "base_uri": "https://localhost:8080/"
        },
        "id": "j7Yps_Q90s80",
        "outputId": "07ae43db-80f9-43e1-cd1f-b63b256818e9"
      },
      "source": [
        "import random \n",
        "dataframe['Weight'].sample(n = 7, random_state = random.randint(0, 100000))"
      ],
      "execution_count": 53,
      "outputs": [
        {
          "output_type": "execute_result",
          "data": {
            "text/plain": [
              "15     21.0\n",
              "17     38.0\n",
              "23    111.0\n",
              "12     20.0\n",
              "0      16.0\n",
              "29     50.0\n",
              "24     44.0\n",
              "Name: Weight, dtype: float64"
            ]
          },
          "metadata": {},
          "execution_count": 53
        }
      ]
    },
    {
      "cell_type": "markdown",
      "metadata": {
        "id": "puWYdv-Y0E94"
      },
      "source": [
        "###Muestra de registros | Volver a seleccionar los registros|  **replace** \n"
      ]
    },
    {
      "cell_type": "code",
      "metadata": {
        "id": "8h0mfEDv1iaN"
      },
      "source": [
        "dataframe2 = pd.DataFrame({'Calificación1': [100, 80, 20, 10, 30, 10],\n",
        "                           'Calificación3': [30, 100, 10, 0, 100, 5],\n",
        "                           'Calificación4': [100, 90, 70, 80, 80, 100],\n",
        "                           'Calificación7': [10, 33, 20, 50, 77, 1],},\n",
        "                          index = ['Estudiante 1','Estudiante 2','Estudiante 3','Estudiante 4','Estudiante 5','Estudiante 6'])"
      ],
      "execution_count": 62,
      "outputs": []
    },
    {
      "cell_type": "code",
      "metadata": {
        "colab": {
          "base_uri": "https://localhost:8080/",
          "height": 235
        },
        "id": "EVQNnLHD1jKC",
        "outputId": "425f6690-5f56-45b0-c3e1-b1f7db598630"
      },
      "source": [
        "dataframe2"
      ],
      "execution_count": 63,
      "outputs": [
        {
          "output_type": "execute_result",
          "data": {
            "text/html": [
              "<div>\n",
              "<style scoped>\n",
              "    .dataframe tbody tr th:only-of-type {\n",
              "        vertical-align: middle;\n",
              "    }\n",
              "\n",
              "    .dataframe tbody tr th {\n",
              "        vertical-align: top;\n",
              "    }\n",
              "\n",
              "    .dataframe thead th {\n",
              "        text-align: right;\n",
              "    }\n",
              "</style>\n",
              "<table border=\"1\" class=\"dataframe\">\n",
              "  <thead>\n",
              "    <tr style=\"text-align: right;\">\n",
              "      <th></th>\n",
              "      <th>Calificación1</th>\n",
              "      <th>Calificación3</th>\n",
              "      <th>Calificación4</th>\n",
              "      <th>Calificación7</th>\n",
              "    </tr>\n",
              "  </thead>\n",
              "  <tbody>\n",
              "    <tr>\n",
              "      <th>Estudiante 1</th>\n",
              "      <td>100</td>\n",
              "      <td>30</td>\n",
              "      <td>100</td>\n",
              "      <td>10</td>\n",
              "    </tr>\n",
              "    <tr>\n",
              "      <th>Estudiante 2</th>\n",
              "      <td>80</td>\n",
              "      <td>100</td>\n",
              "      <td>90</td>\n",
              "      <td>33</td>\n",
              "    </tr>\n",
              "    <tr>\n",
              "      <th>Estudiante 3</th>\n",
              "      <td>20</td>\n",
              "      <td>10</td>\n",
              "      <td>70</td>\n",
              "      <td>20</td>\n",
              "    </tr>\n",
              "    <tr>\n",
              "      <th>Estudiante 4</th>\n",
              "      <td>10</td>\n",
              "      <td>0</td>\n",
              "      <td>80</td>\n",
              "      <td>50</td>\n",
              "    </tr>\n",
              "    <tr>\n",
              "      <th>Estudiante 5</th>\n",
              "      <td>30</td>\n",
              "      <td>100</td>\n",
              "      <td>80</td>\n",
              "      <td>77</td>\n",
              "    </tr>\n",
              "    <tr>\n",
              "      <th>Estudiante 6</th>\n",
              "      <td>10</td>\n",
              "      <td>5</td>\n",
              "      <td>100</td>\n",
              "      <td>1</td>\n",
              "    </tr>\n",
              "  </tbody>\n",
              "</table>\n",
              "</div>"
            ],
            "text/plain": [
              "              Calificación1  Calificación3  Calificación4  Calificación7\n",
              "Estudiante 1            100             30            100             10\n",
              "Estudiante 2             80            100             90             33\n",
              "Estudiante 3             20             10             70             20\n",
              "Estudiante 4             10              0             80             50\n",
              "Estudiante 5             30            100             80             77\n",
              "Estudiante 6             10              5            100              1"
            ]
          },
          "metadata": {},
          "execution_count": 63
        }
      ]
    },
    {
      "cell_type": "code",
      "metadata": {
        "colab": {
          "base_uri": "https://localhost:8080/"
        },
        "id": "hUsKZcKE1i5r",
        "outputId": "5ae9f5ec-1e09-4ca0-a154-65937b838e40"
      },
      "source": [
        "dataframe2.info()"
      ],
      "execution_count": 64,
      "outputs": [
        {
          "output_type": "stream",
          "name": "stdout",
          "text": [
            "<class 'pandas.core.frame.DataFrame'>\n",
            "Index: 6 entries, Estudiante 1 to Estudiante 6\n",
            "Data columns (total 4 columns):\n",
            " #   Column         Non-Null Count  Dtype\n",
            "---  ------         --------------  -----\n",
            " 0   Calificación1  6 non-null      int64\n",
            " 1   Calificación3  6 non-null      int64\n",
            " 2   Calificación4  6 non-null      int64\n",
            " 3   Calificación7  6 non-null      int64\n",
            "dtypes: int64(4)\n",
            "memory usage: 240.0+ bytes\n"
          ]
        }
      ]
    },
    {
      "cell_type": "code",
      "metadata": {
        "colab": {
          "base_uri": "https://localhost:8080/",
          "height": 266
        },
        "id": "kR5A42NK4KJN",
        "outputId": "cbb3eb3f-6980-4f69-e289-c78325103bd9"
      },
      "source": [
        "dataframe2.sample(n = 7, replace = True)"
      ],
      "execution_count": 65,
      "outputs": [
        {
          "output_type": "execute_result",
          "data": {
            "text/html": [
              "<div>\n",
              "<style scoped>\n",
              "    .dataframe tbody tr th:only-of-type {\n",
              "        vertical-align: middle;\n",
              "    }\n",
              "\n",
              "    .dataframe tbody tr th {\n",
              "        vertical-align: top;\n",
              "    }\n",
              "\n",
              "    .dataframe thead th {\n",
              "        text-align: right;\n",
              "    }\n",
              "</style>\n",
              "<table border=\"1\" class=\"dataframe\">\n",
              "  <thead>\n",
              "    <tr style=\"text-align: right;\">\n",
              "      <th></th>\n",
              "      <th>Calificación1</th>\n",
              "      <th>Calificación3</th>\n",
              "      <th>Calificación4</th>\n",
              "      <th>Calificación7</th>\n",
              "    </tr>\n",
              "  </thead>\n",
              "  <tbody>\n",
              "    <tr>\n",
              "      <th>Estudiante 3</th>\n",
              "      <td>20</td>\n",
              "      <td>10</td>\n",
              "      <td>70</td>\n",
              "      <td>20</td>\n",
              "    </tr>\n",
              "    <tr>\n",
              "      <th>Estudiante 4</th>\n",
              "      <td>10</td>\n",
              "      <td>0</td>\n",
              "      <td>80</td>\n",
              "      <td>50</td>\n",
              "    </tr>\n",
              "    <tr>\n",
              "      <th>Estudiante 1</th>\n",
              "      <td>100</td>\n",
              "      <td>30</td>\n",
              "      <td>100</td>\n",
              "      <td>10</td>\n",
              "    </tr>\n",
              "    <tr>\n",
              "      <th>Estudiante 2</th>\n",
              "      <td>80</td>\n",
              "      <td>100</td>\n",
              "      <td>90</td>\n",
              "      <td>33</td>\n",
              "    </tr>\n",
              "    <tr>\n",
              "      <th>Estudiante 2</th>\n",
              "      <td>80</td>\n",
              "      <td>100</td>\n",
              "      <td>90</td>\n",
              "      <td>33</td>\n",
              "    </tr>\n",
              "    <tr>\n",
              "      <th>Estudiante 2</th>\n",
              "      <td>80</td>\n",
              "      <td>100</td>\n",
              "      <td>90</td>\n",
              "      <td>33</td>\n",
              "    </tr>\n",
              "    <tr>\n",
              "      <th>Estudiante 3</th>\n",
              "      <td>20</td>\n",
              "      <td>10</td>\n",
              "      <td>70</td>\n",
              "      <td>20</td>\n",
              "    </tr>\n",
              "  </tbody>\n",
              "</table>\n",
              "</div>"
            ],
            "text/plain": [
              "              Calificación1  Calificación3  Calificación4  Calificación7\n",
              "Estudiante 3             20             10             70             20\n",
              "Estudiante 4             10              0             80             50\n",
              "Estudiante 1            100             30            100             10\n",
              "Estudiante 2             80            100             90             33\n",
              "Estudiante 2             80            100             90             33\n",
              "Estudiante 2             80            100             90             33\n",
              "Estudiante 3             20             10             70             20"
            ]
          },
          "metadata": {},
          "execution_count": 65
        }
      ]
    },
    {
      "cell_type": "markdown",
      "metadata": {
        "id": "r9MktsqB4ese"
      },
      "source": [
        "###Muestra de registros | Pesos | Weights"
      ]
    },
    {
      "cell_type": "code",
      "metadata": {
        "colab": {
          "base_uri": "https://localhost:8080/",
          "height": 235
        },
        "id": "tg4Epejc4p1g",
        "outputId": "4a35d3e4-578a-4594-af60-91609f4c90a1"
      },
      "source": [
        "import numpy as np\n",
        "dataframe2['pesos'] = np.where(dataframe2.Calificación4 > 85, 77, 0) #Los pesos se añaden en la columna de Calificación 4\n",
        "dataframe2"
      ],
      "execution_count": 71,
      "outputs": [
        {
          "output_type": "execute_result",
          "data": {
            "text/html": [
              "<div>\n",
              "<style scoped>\n",
              "    .dataframe tbody tr th:only-of-type {\n",
              "        vertical-align: middle;\n",
              "    }\n",
              "\n",
              "    .dataframe tbody tr th {\n",
              "        vertical-align: top;\n",
              "    }\n",
              "\n",
              "    .dataframe thead th {\n",
              "        text-align: right;\n",
              "    }\n",
              "</style>\n",
              "<table border=\"1\" class=\"dataframe\">\n",
              "  <thead>\n",
              "    <tr style=\"text-align: right;\">\n",
              "      <th></th>\n",
              "      <th>Calificación1</th>\n",
              "      <th>Calificación3</th>\n",
              "      <th>Calificación4</th>\n",
              "      <th>Calificación7</th>\n",
              "      <th>pesos</th>\n",
              "    </tr>\n",
              "  </thead>\n",
              "  <tbody>\n",
              "    <tr>\n",
              "      <th>Estudiante 1</th>\n",
              "      <td>100</td>\n",
              "      <td>30</td>\n",
              "      <td>100</td>\n",
              "      <td>10</td>\n",
              "      <td>77</td>\n",
              "    </tr>\n",
              "    <tr>\n",
              "      <th>Estudiante 2</th>\n",
              "      <td>80</td>\n",
              "      <td>100</td>\n",
              "      <td>90</td>\n",
              "      <td>33</td>\n",
              "      <td>77</td>\n",
              "    </tr>\n",
              "    <tr>\n",
              "      <th>Estudiante 3</th>\n",
              "      <td>20</td>\n",
              "      <td>10</td>\n",
              "      <td>70</td>\n",
              "      <td>20</td>\n",
              "      <td>0</td>\n",
              "    </tr>\n",
              "    <tr>\n",
              "      <th>Estudiante 4</th>\n",
              "      <td>10</td>\n",
              "      <td>0</td>\n",
              "      <td>80</td>\n",
              "      <td>50</td>\n",
              "      <td>0</td>\n",
              "    </tr>\n",
              "    <tr>\n",
              "      <th>Estudiante 5</th>\n",
              "      <td>30</td>\n",
              "      <td>100</td>\n",
              "      <td>80</td>\n",
              "      <td>77</td>\n",
              "      <td>0</td>\n",
              "    </tr>\n",
              "    <tr>\n",
              "      <th>Estudiante 6</th>\n",
              "      <td>10</td>\n",
              "      <td>5</td>\n",
              "      <td>100</td>\n",
              "      <td>1</td>\n",
              "      <td>77</td>\n",
              "    </tr>\n",
              "  </tbody>\n",
              "</table>\n",
              "</div>"
            ],
            "text/plain": [
              "              Calificación1  Calificación3  Calificación4  Calificación7  pesos\n",
              "Estudiante 1            100             30            100             10     77\n",
              "Estudiante 2             80            100             90             33     77\n",
              "Estudiante 3             20             10             70             20      0\n",
              "Estudiante 4             10              0             80             50      0\n",
              "Estudiante 5             30            100             80             77      0\n",
              "Estudiante 6             10              5            100              1     77"
            ]
          },
          "metadata": {},
          "execution_count": 71
        }
      ]
    },
    {
      "cell_type": "code",
      "metadata": {
        "colab": {
          "base_uri": "https://localhost:8080/",
          "height": 142
        },
        "id": "81b6LMAx5yAf",
        "outputId": "356c163e-b407-43fa-c73d-91a51b82d894"
      },
      "source": [
        "dataframe2.sample(n = 3, weights = 'pesos')"
      ],
      "execution_count": 78,
      "outputs": [
        {
          "output_type": "execute_result",
          "data": {
            "text/html": [
              "<div>\n",
              "<style scoped>\n",
              "    .dataframe tbody tr th:only-of-type {\n",
              "        vertical-align: middle;\n",
              "    }\n",
              "\n",
              "    .dataframe tbody tr th {\n",
              "        vertical-align: top;\n",
              "    }\n",
              "\n",
              "    .dataframe thead th {\n",
              "        text-align: right;\n",
              "    }\n",
              "</style>\n",
              "<table border=\"1\" class=\"dataframe\">\n",
              "  <thead>\n",
              "    <tr style=\"text-align: right;\">\n",
              "      <th></th>\n",
              "      <th>Calificación1</th>\n",
              "      <th>Calificación3</th>\n",
              "      <th>Calificación4</th>\n",
              "      <th>Calificación7</th>\n",
              "      <th>pesos</th>\n",
              "    </tr>\n",
              "  </thead>\n",
              "  <tbody>\n",
              "    <tr>\n",
              "      <th>Estudiante 2</th>\n",
              "      <td>80</td>\n",
              "      <td>100</td>\n",
              "      <td>90</td>\n",
              "      <td>33</td>\n",
              "      <td>77</td>\n",
              "    </tr>\n",
              "    <tr>\n",
              "      <th>Estudiante 1</th>\n",
              "      <td>100</td>\n",
              "      <td>30</td>\n",
              "      <td>100</td>\n",
              "      <td>10</td>\n",
              "      <td>77</td>\n",
              "    </tr>\n",
              "    <tr>\n",
              "      <th>Estudiante 6</th>\n",
              "      <td>10</td>\n",
              "      <td>5</td>\n",
              "      <td>100</td>\n",
              "      <td>1</td>\n",
              "      <td>77</td>\n",
              "    </tr>\n",
              "  </tbody>\n",
              "</table>\n",
              "</div>"
            ],
            "text/plain": [
              "              Calificación1  Calificación3  Calificación4  Calificación7  pesos\n",
              "Estudiante 2             80            100             90             33     77\n",
              "Estudiante 1            100             30            100             10     77\n",
              "Estudiante 6             10              5            100              1     77"
            ]
          },
          "metadata": {},
          "execution_count": 78
        }
      ]
    }
  ]
}